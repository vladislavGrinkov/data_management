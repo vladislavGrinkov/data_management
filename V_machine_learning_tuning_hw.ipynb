{
 "cells": [
  {
   "cell_type": "markdown",
   "metadata": {},
   "source": [
    "## Домашняя работа\n",
    "Группа: Т12О-101М-20\n",
    "\n",
    "Студент: Гриньков Владислав Леонидович\n",
    "\n",
    "# Задача на регуляризцию\n",
    "\n",
    "Загрузка данных"
   ]
  },
  {
   "cell_type": "code",
   "execution_count": 1,
   "metadata": {},
   "outputs": [],
   "source": [
    "# Disable warnings\n",
    "def warn(*args, **kwargs):\n",
    "    pass\n",
    "import warnings\n",
    "warnings.warn = warn"
   ]
  },
  {
   "cell_type": "code",
   "execution_count": 2,
   "metadata": {},
   "outputs": [
    {
     "name": "stdout",
     "output_type": "stream",
     "text": [
      "Качество на валидации: 0.119\n",
      "Качество на обучении: 0.052\n"
     ]
    }
   ],
   "source": [
    "from sklearn.model_selection import train_test_split\n",
    "from sklearn.linear_model import Ridge, Lasso\n",
    "from sklearn.metrics import mean_squared_error\n",
    "import numpy as np\n",
    "import pandas as pd\n",
    "\n",
    "\n",
    "def generate_degrees(source_data: list, degree: int):\n",
    "    \"\"\"Функция, которая принимает на вход одномерный массив, а возвращает n-мерный\n",
    "    Для каждой степени от 1 до  degree возводим x в эту степень\n",
    "    \"\"\"\n",
    "    return np.array([\n",
    "          source_data**n for n in range(1, degree + 1)  \n",
    "    ]).T\n",
    "\n",
    "data = pd.read_csv('data/non_linear.csv', sep=',')\n",
    "data.head()\n",
    "\n",
    "degree = 8\n",
    "X = generate_degrees(data['x_train'], degree)\n",
    "y = data.y_train.values\n",
    "X_train, X_valid, y_train, y_valid = train_test_split(X, y, test_size=0.2, random_state=10)\n",
    "model = Ridge(alpha=0).fit(X_train, y_train)\n",
    "y_pred = model.predict(X_valid)\n",
    "y_pred_train = model.predict(X_train)\n",
    "print(\"Качество на валидации: %.3f\" % mean_squared_error(y_valid, y_pred))\n",
    "print(\"Качество на обучении: %.3f\" % mean_squared_error(y_train, y_pred_train))"
   ]
  },
  {
   "cell_type": "markdown",
   "metadata": {},
   "source": [
    "у класса *Ridge* в конструкторе есть параметр регуляризации - обучите регрессию при $\\alpha=0.01$. \n",
    "\n",
    "Как изменилась ошибка на обучении? Как изменилась ошибка на валидации? Удалось ли победить переобучение? Используйте степень полинома n=12"
   ]
  },
  {
   "cell_type": "code",
   "execution_count": 3,
   "metadata": {},
   "outputs": [
    {
     "name": "stdout",
     "output_type": "stream",
     "text": [
      "Параметры alpha=0.01, degree=8\n",
      "\tКачество на обучении: 0.05207484414550292\n",
      "\tКачество на валидации: 0.11911800679352166\n",
      "\n",
      "Параметры alpha=0.01, degree=12\n",
      "\tКачество на обучении: 0.0511266039426615\n",
      "\tКачество на валидации: 0.12518512766745146\n",
      "\n"
     ]
    }
   ],
   "source": [
    "# -- ВАШ КОД ТУТ --\n",
    "parameters = [\n",
    "    (0.01, 8),\n",
    "    (0.01, 12)\n",
    "]\n",
    "results = {}\n",
    "\n",
    "for alpha, degree in parameters:\n",
    "    X = generate_degrees(data['x_train'], degree)\n",
    "    y = data.y_train.values\n",
    "\n",
    "    X_train, X_valid, y_train, y_valid = train_test_split(X, y, test_size=0.2, random_state=10)\n",
    "    \n",
    "    model = Ridge(alpha=0).fit(X_train, y_train)\n",
    "    \n",
    "    y_pred = model.predict(X_valid)\n",
    "    y_pred_train = model.predict(X_train)\n",
    "    \n",
    "    results[(alpha, degree)] = {}\n",
    "    results[(alpha, degree)][\"mse_validation\"] = mean_squared_error(y_valid, y_pred)\n",
    "    results[(alpha, degree)][\"mse_trainig\"] = mean_squared_error(y_train, y_pred_train)\n",
    "    \n",
    "\n",
    "for alpha, degree in results:\n",
    "    print(f'Параметры alpha={alpha}, degree={degree}')\n",
    "    print(f'\\tКачество на обучении:', results[(alpha, degree)]['mse_trainig'])\n",
    "    print(f'\\tКачество на валидации:', results[(alpha, degree)]['mse_validation'])\n",
    "    print()\n",
    "# ------------------"
   ]
  },
  {
   "cell_type": "markdown",
   "metadata": {},
   "source": [
    "### Домашняя работа: Lasso vs Ridge\n",
    "\n",
    "На данных из файла `data/non_linear.csv`\n",
    "* сгенерируйте данные до степени *degree = 8* включительно\n",
    "* обучите модель `sklearn.linear_model.Lasso` и модель `sklearn.linear_model.Ridge` на полученных данных\n",
    "* используйте коэффициент регуляризации $\\alpha=0.8$ для обеих моделей\n",
    "* постройте два столбчатых графика, на которых отобразите величину коэффициентов в для Ridge регрессии и Lasso регрессии виде столбиков"
   ]
  },
  {
   "cell_type": "markdown",
   "metadata": {},
   "source": [
    "Пример графиков для 3-й степени (просто для примера, у вас может по-другому выглядеть). Какой можно сделать в вывод по величине коэффициентов?:\n",
    "![coeff_example](img/coeff_example.png)"
   ]
  },
  {
   "cell_type": "code",
   "execution_count": 4,
   "metadata": {},
   "outputs": [],
   "source": [
    "# -- ВАШ КОД ТУТ ---\n",
    "degreed_data = {\n",
    "    degree: generate_degrees(data['x_train'], degree)\n",
    "    for degree in range(1, 9)\n",
    "}\n",
    "y = data.y_train.values\n",
    "\n",
    "\n",
    "trained = {'ridge': {}, 'lasso': {}}\n",
    "\n",
    "for degree, X in degreed_data.items():\n",
    "    X_train, X_valid, y_train, y_valid = train_test_split(X, y, test_size=0.2, random_state=10)\n",
    "    \n",
    "    ridge_model = Ridge(alpha=0.8).fit(X_train, y_train)\n",
    "    lasso_model = Lasso(alpha=0.8).fit(X_train, y_train)\n",
    "\n",
    "    trained['ridge'][degree] = ridge_model\n",
    "    trained['lasso'][degree] = lasso_model\n"
   ]
  },
  {
   "cell_type": "code",
   "execution_count": 5,
   "metadata": {},
   "outputs": [
    {
     "data": {
      "image/png": "[encoded data removed]",
      "text/plain": [
       "<Figure size 1080x720 with 1 Axes>"
      ]
     },
     "metadata": {
      "needs_background": "light"
     },
     "output_type": "display_data"
    }
   ],
   "source": [
    "from matplotlib import pyplot as plt\n",
    "\n",
    "degree = 3\n",
    "\n",
    "lasso = trained['lasso'][degree].coef_\n",
    "ridge = trained['ridge'][degree].coef_\n",
    "\n",
    "x = np.arange(degree)\n",
    "width = 0.35\n",
    "\n",
    "fig, ax = plt.subplots(figsize=(15,10))\n",
    "rects1 = ax.bar(x - width/2, lasso, width, label='Lasso')\n",
    "rects2 = ax.bar(x + width/2, ridge, width, label='Ridge')\n",
    "\n",
    "# Add some text for labels, title and custom x-axis tick labels, etc.\n",
    "ax.set_ylabel('Coefficient values')\n",
    "ax.set_title('Coeffs by different calculations')\n",
    "ax.set_xticks(x)\n",
    "ax.legend()\n",
    "ax.grid(True)\n",
    "\n",
    "ax.bar_label(rects1, padding=3)\n",
    "ax.bar_label(rects2, padding=15)\n",
    "\n",
    "fig.tight_layout()\n",
    "# ------------------"
   ]
  },
  {
   "cell_type": "markdown",
   "metadata": {
    "slideshow": {
     "slide_type": "slide"
    }
   },
   "source": [
    "# Домашнее задание: пишем Ridge регрессию.\n",
    "\n",
    "Мы использовали реализацию Ridge регрессию из библиотеки sklearn. Для того, чтобы  прокачать навыки программирования и освежить в памяти, как перемножать матрицы в numpy, напишите код для вычисления коэффициентов полиномиальной регрессии (для степени *degree=8*) с регуляризацией по формуле\n",
    "$$\n",
    "\\overline{w} = \\left(X^TX + \\lambda E\\right)^{-1}X^T\\overline{y}\n",
    "$$\n",
    "\n",
    "Для примера можно ориентироваться на то, как была реализована аналитическая формула для линейной регрессии в модуле \"Линейная регрессия. Часть I\"\n",
    "\n",
    "Единичную матрицу $E$ можно получить с помощью функции https://docs.scipy.org/doc/numpy/reference/generated/numpy.eye.html . Размерность матрицы $k\\times k$ (по количеству коэффициентов линейной регрессии). Напоминаю, что количество коэффициентов регрессии совпадает с количеством фичей регрессии, в задании будет $k=8$, т.к. генерим признаки для полинома восьмой степени."
   ]
  },
  {
   "cell_type": "code",
   "execution_count": 6,
   "metadata": {},
   "outputs": [
    {
     "data": {
      "text/plain": [
       "array([ 0.51152727,  0.40716153,  0.22421288, -0.04867427, -0.17822689,\n",
       "        0.08659551, -0.01446891,  0.00083008])"
      ]
     },
     "execution_count": 6,
     "metadata": {},
     "output_type": "execute_result"
    }
   ],
   "source": [
    "# -- ВАШ КОД ТУТ --\n",
    "\n",
    "# Prepare data\n",
    "degree = 8\n",
    "k = 8\n",
    "\n",
    "X = generate_degrees(data['x_train'], degree)\n",
    "y = data.y_train.values\n",
    "\n",
    "X_train, X_valid, y_train, y_valid = train_test_split(X, y, test_size=0.2, random_state=10)\n",
    "\n",
    "# Make calculations\n",
    "def ridge_coeffs(k, X, y):\n",
    "    E = np.eye(k)\n",
    "    w = np.linalg.inv(X.T.dot(X) + k*E).dot(X.T).dot(y)\n",
    "    return w\n",
    "\n",
    "ridge_coeffs(k, X_train, y_train)\n",
    "# -----------------"
   ]
  },
  {
   "cell_type": "markdown",
   "metadata": {
    "slideshow": {
     "slide_type": "slide"
    }
   },
   "source": [
    "# Домашнее задание: подбираем шаг градиентного спуска \n",
    "\n",
    "Очевидно, что чем больше шаг градиентного спуска (параметр *eta0* класса *SGDRegressor*), тем быстрее мы придём к оптимальным значениям. Используя под выше, поиграйтесь с параметром *eta0* и добейтесь , чтобы градиентный спуск закончился быстрее, чем за 200 шагов.\n",
    "\n",
    "Сколько шагов у вас получилось? Какое качество *RMSE* у Вашего решения? Визуализируйте функцию потерь"
   ]
  },
  {
   "cell_type": "code",
   "execution_count": 7,
   "metadata": {},
   "outputs": [],
   "source": [
    "import numpy as np\n",
    "import pandas as pd\n",
    "import matplotlib.pyplot as plt\n",
    "# для регрессии\n",
    "from sklearn.model_selection import train_test_split\n",
    "from sklearn.linear_model import SGDRegressor\n",
    "from sklearn.metrics import mean_squared_error\n",
    "from scipy.spatial import distance\n",
    "%matplotlib inline"
   ]
  },
  {
   "cell_type": "code",
   "execution_count": 8,
   "metadata": {},
   "outputs": [
    {
     "data": {
      "text/html": [
       "<div>\n",
       "<style scoped>\n",
       "    .dataframe tbody tr th:only-of-type {\n",
       "        vertical-align: middle;\n",
       "    }\n",
       "\n",
       "    .dataframe tbody tr th {\n",
       "        vertical-align: top;\n",
       "    }\n",
       "\n",
       "    .dataframe thead th {\n",
       "        text-align: right;\n",
       "    }\n",
       "</style>\n",
       "<table border=\"1\" class=\"dataframe\">\n",
       "  <thead>\n",
       "    <tr style=\"text-align: right;\">\n",
       "      <th></th>\n",
       "      <th>x_train</th>\n",
       "      <th>y_train</th>\n",
       "    </tr>\n",
       "  </thead>\n",
       "  <tbody>\n",
       "    <tr>\n",
       "      <th>5</th>\n",
       "      <td>1.182421</td>\n",
       "      <td>1.860341</td>\n",
       "    </tr>\n",
       "    <tr>\n",
       "      <th>6</th>\n",
       "      <td>1.251605</td>\n",
       "      <td>1.878928</td>\n",
       "    </tr>\n",
       "    <tr>\n",
       "      <th>7</th>\n",
       "      <td>1.270474</td>\n",
       "      <td>2.430015</td>\n",
       "    </tr>\n",
       "    <tr>\n",
       "      <th>8</th>\n",
       "      <td>1.402553</td>\n",
       "      <td>2.327856</td>\n",
       "    </tr>\n",
       "    <tr>\n",
       "      <th>9</th>\n",
       "      <td>1.427711</td>\n",
       "      <td>2.203649</td>\n",
       "    </tr>\n",
       "  </tbody>\n",
       "</table>\n",
       "</div>"
      ],
      "text/plain": [
       "    x_train   y_train\n",
       "5  1.182421  1.860341\n",
       "6  1.251605  1.878928\n",
       "7  1.270474  2.430015\n",
       "8  1.402553  2.327856\n",
       "9  1.427711  2.203649"
      ]
     },
     "execution_count": 8,
     "metadata": {},
     "output_type": "execute_result"
    }
   ],
   "source": [
    "data = pd.read_csv('data/non_linear.csv', sep=',')\n",
    "data = data[(data.x_train > 1) & (data.x_train < 5)].copy()\n",
    "\n",
    "X = data['x_train'].values.reshape(-1, 1) # превращаем X из простого массива в вектор-столбец\n",
    "y = data['y_train'].values\n",
    "\n",
    "# разбиваем на трейн и валидацию\n",
    "X_train, X_valid, y_train, y_valid = train_test_split(X, y, test_size=0.2, random_state=10)\n",
    "\n",
    "data.head()"
   ]
  },
  {
   "cell_type": "code",
   "execution_count": 9,
   "metadata": {},
   "outputs": [],
   "source": [
    "def train_sgd(\n",
    "    X_train, y_train,\n",
    "    X_test, y_test,\n",
    "    K: int,\n",
    "    rand_state: int,\n",
    "    eta: float,\n",
    "    epsilon: float,\n",
    "    metric,\n",
    "    max_iterations: int = 800,\n",
    "):\n",
    "    sgd = SGDRegressor(\n",
    "        learning_rate='constant',\n",
    "        eta0=eta,\n",
    "        fit_intercept=True,\n",
    "        random_state=rand_state\n",
    "    )\n",
    "\n",
    "    # инициализация весов случайным образом\n",
    "    w_current = np.random.random(K)\n",
    "    # изменения весов и ошибка на валидации\n",
    "    weight_evolution, metric_evolution = [], []\n",
    "\n",
    "    for step in range(max_iterations):\n",
    "        # шаг градиентного спуска\n",
    "        sgd = sgd.partial_fit(X_train, y_train)\n",
    "        \n",
    "        # отслеживаем изменения весов\n",
    "        weight_evolution.append(distance.euclidean(w_current, sgd.coef_))\n",
    "\n",
    "        # проверяем критерий остановки\n",
    "        if weight_evolution[-1] < epsilon:\n",
    "            break\n",
    "\n",
    "        metric_evolution.append(metric(y_test, sgd.predict(X_test)))\n",
    "\n",
    "        # обновление весов регрессии\n",
    "        w_current = sgd.coef_.copy()\n",
    "\n",
    "    return sgd, step, metric_evolution"
   ]
  },
  {
   "cell_type": "code",
   "execution_count": 10,
   "metadata": {},
   "outputs": [],
   "source": [
    "# -- ВАШ КОД ТУТ --\n",
    "from sklearn.linear_model import SGDRegressor\n",
    "\n",
    "EPS = 0.0001\n",
    "STATE = 12\n",
    "K = 2\n",
    "\n",
    "etas = [0.009, 0.010, 0.015, 0.025, 0.030, 0.035, 0.040, 0.045, 0.050]\n",
    "\n",
    "num_iters = {}\n",
    "\n",
    "for eta in etas:\n",
    "    sgd_regressor, steps, rmse_evolution = train_sgd(\n",
    "        X_train, y_train,\n",
    "        X_valid, y_valid,\n",
    "        K=K,\n",
    "        rand_state=STATE,\n",
    "        eta=eta,\n",
    "        epsilon=EPS,\n",
    "        metric=mean_squared_error,\n",
    "    )\n",
    "    num_iters[eta] = (steps, rmse_evolution, sgd_regressor)\n",
    "# ----------------"
   ]
  },
  {
   "cell_type": "code",
   "execution_count": 11,
   "metadata": {},
   "outputs": [
    {
     "name": "stdout",
     "output_type": "stream",
     "text": [
      "Solution with minimal steps when eta0 = 0.05\n",
      "Steps used with this eta -> 52\n"
     ]
    }
   ],
   "source": [
    "solution_with_minimal_steps = min(num_iters.items(), key=lambda x: x[1][1])\n",
    "eta, (steps, rsme_evolution, sgd_regessor) = solution_with_minimal_steps\n",
    "\n",
    "print(f'Solution with minimal steps when eta0 = {eta}')\n",
    "print(f'Steps used with this eta -> {steps}')"
   ]
  },
  {
   "cell_type": "code",
   "execution_count": 12,
   "metadata": {},
   "outputs": [
    {
     "data": {
      "text/plain": [
       "<matplotlib.legend.Legend at 0x7ff13056bdc0>"
      ]
     },
     "execution_count": 12,
     "metadata": {},
     "output_type": "execute_result"
    },
    {
     "data": {
      "image/png": "[encoded data removed]",
      "text/plain": [
       "<Figure size 432x288 with 1 Axes>"
      ]
     },
     "metadata": {
      "needs_background": "light"
     },
     "output_type": "display_data"
    }
   ],
   "source": [
    "plt.plot(range(steps), rsme_evolution, label='loss')\n",
    "plt.legend()"
   ]
  },
  {
   "cell_type": "code",
   "execution_count": 13,
   "metadata": {},
   "outputs": [
    {
     "data": {
      "image/png": "[encoded data removed]",
      "text/plain": [
       "<Figure size 432x288 with 1 Axes>"
      ]
     },
     "metadata": {
      "needs_background": "light"
     },
     "output_type": "display_data"
    }
   ],
   "source": [
    "x_linspace = np.linspace(data['x_train'].min(), data['x_train'].max(), num=100)\n",
    "\n",
    "y_linspace= sgd_regessor.predict(x_linspace.reshape(-1,1))\n",
    "\n",
    "plt.grid(True)\n",
    "plt.plot(x_linspace, y_linspace)\n",
    "plt.scatter(data.x_train, data.y_train, 40, 'g', 'o', alpha=0.8, label='data')\n",
    "\n",
    "plt.show()"
   ]
  },
  {
   "cell_type": "markdown",
   "metadata": {
    "slideshow": {
     "slide_type": "slide"
    }
   },
   "source": [
    "# Домашнее задание: SGD на многомерных данных\n",
    "\n",
    "Примените градиентный спуск к задаче прогнозирования цен на недвижимость в Бостоне. Какого качества на валидации удалось достичь по r2-score? Сколько итераций  понадобилось?"
   ]
  },
  {
   "cell_type": "code",
   "execution_count": 16,
   "metadata": {},
   "outputs": [
    {
     "data": {
      "text/plain": [
       "((404, 13), (404,))"
      ]
     },
     "execution_count": 16,
     "metadata": {},
     "output_type": "execute_result"
    }
   ],
   "source": [
    "from sklearn.datasets import load_boston\n",
    "from sklearn.metrics import r2_score\n",
    "\n",
    "boston_dataset = load_boston()\n",
    "X = boston_dataset.data\n",
    "y = boston_dataset.target\n",
    "X_train, X_test, y_train, y_test = train_test_split(X, y, test_size=0.2, random_state=10)\n",
    "\n",
    "X_train.shape, y_train.shape"
   ]
  },
  {
   "cell_type": "code",
   "execution_count": 17,
   "metadata": {},
   "outputs": [
    {
     "data": {
      "text/plain": [
       "(105, -0.21077613603857315)"
      ]
     },
     "execution_count": 17,
     "metadata": {},
     "output_type": "execute_result"
    }
   ],
   "source": [
    "reg = SGDRegressor(random_state=10).fit(X_train, y_train)\n",
    "reg.n_iter_, r2_score(reg.predict(X_test), y_test)"
   ]
  },
  {
   "cell_type": "markdown",
   "metadata": {
    "slideshow": {
     "slide_type": "slide"
    }
   },
   "source": [
    "# Домашняя работа: добавляем регуляризацию в SGD\n",
    "\n",
    "В реализацию функции `gradient` добавьте параметр $\\lambda$, чтобы получить регуляризованный градиентный спуск\n",
    "\n",
    "Формула поменяется следующим образом:\n",
    "$$\n",
    "\\left\\{\n",
    "\\begin{array}{cc}\n",
    "\\frac{\\partial L}{\\partial w_0} = \\frac{2}{n}\\cdot(-1)\\cdot \\sum_{i=1}^{n} 1\\cdot \\left(y_i - \\sum_{j=1}^{m}w_jx_j^i + 2\\cdot 1\\right)&\\\\\n",
    "\\frac{\\partial L}{\\partial w_k} = \\frac{2}{n}\\cdot(-1)\\cdot \\sum_{i=1}^{n} x_k^i \\cdot\\left(y_i - \\sum_{j=1}^{m}w_jx_j^i + 2x_k\\right)& k\\neq 0 \\\\\n",
    "\\end{array}\n",
    "\\right.\n",
    "$$"
   ]
  },
  {
   "cell_type": "markdown",
   "metadata": {
    "slideshow": {
     "slide_type": "slide"
    }
   },
   "source": [
    "В этом модуле мы узнали, как  обучать линейную регрессию, не \"упираясь\" в аппаратные ресурсы: использовать градиентный спуск.\n",
    "Мы узнали, как детектировать переобучение модели и закрепили свои знания на примере полиномиальной регрессии и выяснили, как увеличить качество решения с помощью механизма регуляризации. Познакомились с двумя видами регуляризации -  Ridge и Lasso."
   ]
  },
  {
   "cell_type": "markdown",
   "metadata": {},
   "source": [
    "Загружаем исходные данные"
   ]
  },
  {
   "cell_type": "code",
   "execution_count": 18,
   "metadata": {},
   "outputs": [
    {
     "data": {
      "text/html": [
       "<div>\n",
       "<style scoped>\n",
       "    .dataframe tbody tr th:only-of-type {\n",
       "        vertical-align: middle;\n",
       "    }\n",
       "\n",
       "    .dataframe tbody tr th {\n",
       "        vertical-align: top;\n",
       "    }\n",
       "\n",
       "    .dataframe thead th {\n",
       "        text-align: right;\n",
       "    }\n",
       "</style>\n",
       "<table border=\"1\" class=\"dataframe\">\n",
       "  <thead>\n",
       "    <tr style=\"text-align: right;\">\n",
       "      <th></th>\n",
       "      <th>x_train</th>\n",
       "      <th>y_train</th>\n",
       "    </tr>\n",
       "  </thead>\n",
       "  <tbody>\n",
       "    <tr>\n",
       "      <th>5</th>\n",
       "      <td>1.182421</td>\n",
       "      <td>1.860341</td>\n",
       "    </tr>\n",
       "    <tr>\n",
       "      <th>6</th>\n",
       "      <td>1.251605</td>\n",
       "      <td>1.878928</td>\n",
       "    </tr>\n",
       "    <tr>\n",
       "      <th>7</th>\n",
       "      <td>1.270474</td>\n",
       "      <td>2.430015</td>\n",
       "    </tr>\n",
       "    <tr>\n",
       "      <th>8</th>\n",
       "      <td>1.402553</td>\n",
       "      <td>2.327856</td>\n",
       "    </tr>\n",
       "    <tr>\n",
       "      <th>9</th>\n",
       "      <td>1.427711</td>\n",
       "      <td>2.203649</td>\n",
       "    </tr>\n",
       "  </tbody>\n",
       "</table>\n",
       "</div>"
      ],
      "text/plain": [
       "    x_train   y_train\n",
       "5  1.182421  1.860341\n",
       "6  1.251605  1.878928\n",
       "7  1.270474  2.430015\n",
       "8  1.402553  2.327856\n",
       "9  1.427711  2.203649"
      ]
     },
     "execution_count": 18,
     "metadata": {},
     "output_type": "execute_result"
    }
   ],
   "source": [
    "import numpy as np\n",
    "import pandas as pd\n",
    "\n",
    "data = pd.read_csv('data/non_linear.csv', sep=',')\n",
    "data = data[(data.x_train > 1) & (data.x_train < 5)].copy()\n",
    "data.head()"
   ]
  },
  {
   "cell_type": "markdown",
   "metadata": {},
   "source": [
    "Код для SGD"
   ]
  },
  {
   "cell_type": "code",
   "execution_count": 19,
   "metadata": {},
   "outputs": [
    {
     "name": "stdout",
     "output_type": "stream",
     "text": [
      "step 100 |w-w_next|=0.04718, grad=[ 5.66601028 -1.63679773]\n",
      "step 200 |w-w_next|=0.03883, grad=[ 4.66270609 -1.34696304]\n",
      "step 300 |w-w_next|=0.03195, grad=[ 3.83706116 -1.10845064]\n",
      "step 400 |w-w_next|=0.02629, grad=[ 3.15761664 -0.91217264]\n",
      "step 500 |w-w_next|=0.02164, grad=[ 2.59848422 -0.7506504 ]\n",
      "step 600 |w-w_next|=0.01781, grad=[ 2.13835972 -0.61772959]\n",
      "step 700 |w-w_next|=0.01465, grad=[ 1.75971139 -0.50834562]\n",
      "step 800 |w-w_next|=0.01206, grad=[ 1.44811191 -0.41833073]\n",
      "step 900 |w-w_next|=0.00992, grad=[ 1.19168866 -0.34425515]\n",
      "step 1000 |w-w_next|=0.00817, grad=[ 0.98067135 -0.28329645]\n",
      "step 1100 |w-w_next|=0.00672, grad=[ 0.80701976 -0.23313196]\n",
      "step 1200 |w-w_next|=0.00553, grad=[ 0.66411739 -0.1918503 ]\n",
      "step 1300 |w-w_next|=0.00455, grad=[ 0.54651933 -0.15787856]\n",
      "step 1400 |w-w_next|=0.00375, grad=[ 0.44974486 -0.12992234]\n",
      "step 1500 |w-w_next|=0.00308, grad=[ 0.37010665 -0.10691645]\n",
      "step 1600 |w-w_next|=0.00254, grad=[ 0.30457032 -0.08798431]\n",
      "step 1700 |w-w_next|=0.00209, grad=[ 0.25063877 -0.07240456]\n",
      "step 1800 |w-w_next|=0.00172, grad=[ 0.20625711 -0.05958358]\n",
      "step 1900 |w-w_next|=0.00141, grad=[ 0.1697343  -0.04903286]\n",
      "step 2000 |w-w_next|=0.00116, grad=[ 0.13967874 -0.04035041]\n"
     ]
    }
   ],
   "source": [
    "from scipy.spatial import distance\n",
    "import numpy as np\n",
    "import matplotlib.pyplot as plt\n",
    "%matplotlib inline\n",
    "\n",
    "def gradient(X, y, w, alpha=0) -> np.array:\n",
    "    # количество обучающих примеров в выборке\n",
    "    n = X.shape[0]\n",
    "    # считаем прогноз\n",
    "    y_hat = X.dot(w.T)\n",
    "    # вычисляем ошибку прогноза\n",
    "    # NOTE: chages here ... added : `+ 2 * X`\n",
    "    error = (y - y_hat) + 2 * X\n",
    "    # дальше pointwise перемножение - умножаем каждую из координат на ошибку\n",
    "    pointwise_errors = np.multiply(X, error) + X\n",
    "    # print(pointwise_errors.shape, X.shape, error.shape)\n",
    "    grad = pointwise_errors.sum(axis=0)*(-1.0)*2.0 / n\n",
    "    return grad, error\n",
    "\n",
    "def eval_w_next(X, y, eta, w_current):\n",
    "    # вычисляем градиент\n",
    "    grad, error = gradient(X, y, w_current)\n",
    "    # делаем шаг градиентного спуска\n",
    "    w_next = w_current - eta*grad\n",
    "    # проверяем условие сходимости\n",
    "    weight_evolution = distance.euclidean(w_current, w_next)\n",
    "    return (w_next, weight_evolution, grad)\n",
    "\n",
    "def gradient_descent(X: np.array, y: np.array, eta=0.01, epsilon=0.001) -> np.array:\n",
    "    m = X.shape[1] # количество фичей\n",
    "    # инициализируем рандомом веса\n",
    "    w = np.random.random(m).reshape(1, -1)\n",
    "    w_next, weight_evolution, grad = eval_w_next(X, y, eta, w)\n",
    "    step = 0\n",
    "    # повторяем до сходимости вектора весов\n",
    "    while weight_evolution > epsilon:\n",
    "        w = w_next\n",
    "        w_next, weight_evolution, grad = eval_w_next(X, y, eta, w)\n",
    "        step += 1\n",
    "        if step % 100 ==0:\n",
    "            print(\"step %s |w-w_next|=%.5f, grad=%s\" % (step, weight_evolution, grad))\n",
    "    return w\n",
    "\n",
    "# трансформируем плоский массив X в вектор-столбец\n",
    "X = data['x_train'].values.reshape(-1, 1)\n",
    "n = X.shape[0]\n",
    "# добавляем тривиальный признак w_0, столбец из единиц. См. прошлый урок, почему так\n",
    "X = np.hstack([\n",
    "    np.ones(n).reshape(-1,1),\n",
    "    X\n",
    "])\n",
    "w = gradient_descent(X, data['y_train'].values.reshape(-1, 1), eta=0.008)"
   ]
  },
  {
   "cell_type": "markdown",
   "metadata": {},
   "source": [
    "# Домашнее задание: извлечение признаков из текста\n",
    "\n",
    "Реализуем пайплайн в виде функции, при помощи которой обработаем все текстовые описания. Для каждого описания\n",
    "* проводим токенизацию\n",
    "* удаляем пунктуацию\n",
    "* приводим к нижнему регистру\n",
    "* удаляем стоп-слова\n",
    "\n",
    "\n",
    "Примените процедуру токенизации к файлу brand_tweets_valid.csv\n",
    "\n",
    "Сколько уникальных токенов получилось?"
   ]
  },
  {
   "cell_type": "code",
   "execution_count": 20,
   "metadata": {},
   "outputs": [
    {
     "name": "stdout",
     "output_type": "stream",
     "text": [
      "(3904, 3)\n"
     ]
    },
    {
     "name": "stderr",
     "output_type": "stream",
     "text": [
      "[nltk_data] Downloading package punkt to ....\n",
      "[nltk_data]   Package punkt is already up-to-date!\n"
     ]
    },
    {
     "data": {
      "text/html": [
       "<div>\n",
       "<style scoped>\n",
       "    .dataframe tbody tr th:only-of-type {\n",
       "        vertical-align: middle;\n",
       "    }\n",
       "\n",
       "    .dataframe tbody tr th {\n",
       "        vertical-align: top;\n",
       "    }\n",
       "\n",
       "    .dataframe thead th {\n",
       "        text-align: right;\n",
       "    }\n",
       "</style>\n",
       "<table border=\"1\" class=\"dataframe\">\n",
       "  <thead>\n",
       "    <tr style=\"text-align: right;\">\n",
       "      <th></th>\n",
       "      <th>tweet_text</th>\n",
       "      <th>emotion_in_tweet_is_directed_at</th>\n",
       "      <th>is_there_an_emotion_directed_at_a_brand_or_product</th>\n",
       "    </tr>\n",
       "  </thead>\n",
       "  <tbody>\n",
       "    <tr>\n",
       "      <th>0</th>\n",
       "      <td>.@wesley83 I have a 3G iPhone. After 3 hrs twe...</td>\n",
       "      <td>iPhone</td>\n",
       "      <td>Negative emotion</td>\n",
       "    </tr>\n",
       "    <tr>\n",
       "      <th>1</th>\n",
       "      <td>@jessedee Know about @fludapp ? Awesome iPad/i...</td>\n",
       "      <td>iPad or iPhone App</td>\n",
       "      <td>Positive emotion</td>\n",
       "    </tr>\n",
       "    <tr>\n",
       "      <th>2</th>\n",
       "      <td>@swonderlin Can not wait for #iPad 2 also. The...</td>\n",
       "      <td>iPad</td>\n",
       "      <td>Positive emotion</td>\n",
       "    </tr>\n",
       "    <tr>\n",
       "      <th>3</th>\n",
       "      <td>@sxsw I hope this year's festival isn't as cra...</td>\n",
       "      <td>iPad or iPhone App</td>\n",
       "      <td>Negative emotion</td>\n",
       "    </tr>\n",
       "    <tr>\n",
       "      <th>4</th>\n",
       "      <td>@sxtxstate great stuff on Fri #SXSW: Marissa M...</td>\n",
       "      <td>Google</td>\n",
       "      <td>Positive emotion</td>\n",
       "    </tr>\n",
       "  </tbody>\n",
       "</table>\n",
       "</div>"
      ],
      "text/plain": [
       "                                          tweet_text  \\\n",
       "0  .@wesley83 I have a 3G iPhone. After 3 hrs twe...   \n",
       "1  @jessedee Know about @fludapp ? Awesome iPad/i...   \n",
       "2  @swonderlin Can not wait for #iPad 2 also. The...   \n",
       "3  @sxsw I hope this year's festival isn't as cra...   \n",
       "4  @sxtxstate great stuff on Fri #SXSW: Marissa M...   \n",
       "\n",
       "  emotion_in_tweet_is_directed_at  \\\n",
       "0                          iPhone   \n",
       "1              iPad or iPhone App   \n",
       "2                            iPad   \n",
       "3              iPad or iPhone App   \n",
       "4                          Google   \n",
       "\n",
       "  is_there_an_emotion_directed_at_a_brand_or_product  \n",
       "0                                   Negative emotion  \n",
       "1                                   Positive emotion  \n",
       "2                                   Positive emotion  \n",
       "3                                   Negative emotion  \n",
       "4                                   Positive emotion  "
      ]
     },
     "execution_count": 20,
     "metadata": {},
     "output_type": "execute_result"
    }
   ],
   "source": [
    "import nltk\n",
    "import string\n",
    "import pandas as pd\n",
    "\n",
    "# дополнительный словарь со знаками пунктуации\n",
    "nltk.download('punkt', download_dir='.')\n",
    "\n",
    "df = pd.read_csv('data/brand_tweets.csv', sep=',', encoding='utf8')\n",
    "# удаляем строки, в которых отсутствует текст твита\n",
    "df.drop(df[df.tweet_text.isnull()].index, inplace=True)\n",
    "print(df.shape)\n",
    "\n",
    "df.head()"
   ]
  },
  {
   "cell_type": "code",
   "execution_count": 21,
   "metadata": {},
   "outputs": [
    {
     "data": {
      "text/plain": [
       "7258"
      ]
     },
     "execution_count": 21,
     "metadata": {},
     "output_type": "execute_result"
    }
   ],
   "source": [
    "import string\n",
    "import itertools\n",
    "\n",
    "stop_words = stop_words = nltk.corpus.stopwords.words('english')\n",
    "\n",
    "def tokenize_text(raw_text: str):\n",
    "    \"\"\"Функция для токенизации текста\n",
    "    \n",
    "    :param raw_text: исходная текстовая строка\n",
    "    \"\"\"\n",
    "    return [\n",
    "        token\n",
    "        for token in nltk.word_tokenize(raw_text.lower())\n",
    "        if token not in string.punctuation\n",
    "        if token not in stop_words\n",
    "    ]\n",
    "\n",
    "# применяем функцию в датафрейму с помощью метода .apply()\n",
    "tokenized_tweets= df.tweet_text.apply(tokenize_text)\n",
    "\n",
    "# добавляем новую колонку в исходный датафрейм\n",
    "df = df.assign(\n",
    "    tokenized=tokenized_tweets\n",
    ")\n",
    "\n",
    "uniq_tokens = set(itertools.chain(*df.tokenized.tolist()))\n",
    "len(uniq_tokens)"
   ]
  },
  {
   "cell_type": "markdown",
   "metadata": {},
   "source": [
    "# Домашнее задание: поиск дубликатов в тексте\n",
    "\n",
    "Потренируйтесь в нахождении матрицы схожести для валидационного сета\n",
    "\n",
    "загрузите brand_tweets_valid.csv\n",
    "примените объект vectorizer, обученный на датасете brand_tweets.csv (просто скопируйте этот код из урока)\n",
    "примените функцию pairwise_distances к полученной матрице"
   ]
  },
  {
   "cell_type": "code",
   "execution_count": 22,
   "metadata": {},
   "outputs": [
    {
     "data": {
      "text/plain": [
       "<3904x7258 sparse matrix of type '<class 'numpy.int64'>'\n",
       "\twith 46023 stored elements in Compressed Sparse Row format>"
      ]
     },
     "execution_count": 22,
     "metadata": {},
     "output_type": "execute_result"
    }
   ],
   "source": [
    "from sklearn.metrics import pairwise_distances\n",
    "from sklearn.feature_extraction.text import CountVectorizer\n",
    "\n",
    "# инициализируем объект, который токенизирует наш текст\n",
    "# в качестве единственного аргимента передаём функцию, которую мы написали в Уроке 2\n",
    "# на разбивает каждый документ на токены\n",
    "vectorizer = CountVectorizer(tokenizer=tokenize_text)\n",
    "# применяем наш объект-токенизатор к датафрейму с твитами\n",
    "document_matrix = vectorizer.fit_transform(df.tweet_text.values)\n",
    "# результат - матрица, в которой находятся числа, строк в мастрице столько, сколько документов\n",
    "# а столбцов столько, сколько токенов\n",
    "document_matrix"
   ]
  },
  {
   "cell_type": "code",
   "execution_count": 23,
   "metadata": {},
   "outputs": [
    {
     "data": {
      "text/plain": [
       "(402, 402)"
      ]
     },
     "execution_count": 23,
     "metadata": {},
     "output_type": "execute_result"
    }
   ],
   "source": [
    "import pandas as pd\n",
    "\n",
    "df_valid = pd.read_csv('data/brand_tweets_valid.csv', sep=',', encoding='utf8')\n",
    "# удаляем строки, в которых отсутствует текст твита\n",
    "df_valid.drop(df_valid[df_valid.tweet_text.isnull()].index, inplace=True)\n",
    "\n",
    "# -- ВАШ КОД ТУТ --\n",
    "\n",
    "valid_doc_matrix = vectorizer.fit_transform(df_valid.tweet_text.values)\n",
    "tweet_distance = 1 - pairwise_distances(valid_doc_matrix, metric=\"cosine\")\n",
    "tweet_distance.shape\n",
    "\n",
    "# -----------------"
   ]
  },
  {
   "cell_type": "markdown",
   "metadata": {},
   "source": [
    "* Пользуясь матрицей схожести, полученной на предыдущем этапе, найдите top-5 твитов, похожих на твит валидационного сета с id=14.\n",
    "\n",
    "У вас есть матрица схожести между объектами. Попробуйте решить задачу поиска дубликатов в тексте\n",
    "\n",
    "1. Визуализируйте гистограмму значений в матрице схожести\n",
    "1. Напишите функцию на Python, которая принимает индекс твита, пороговое значение (число от $0.0$ до $1.0$ и матрицу схожести, а затем выводит все твиты, схожесть которых больше, чем пороговое значение"
   ]
  },
  {
   "cell_type": "code",
   "execution_count": 24,
   "metadata": {},
   "outputs": [
    {
     "name": "stdout",
     "output_type": "stream",
     "text": [
      "Popup Apple Store crew has been giving out water to the people in line but they are in street clothes. No Apple logos anywhere yet. #SXSW\n"
     ]
    }
   ],
   "source": [
    "source_tweet_index = 14\n",
    "print(df_valid.iloc[source_tweet_index].tweet_text)"
   ]
  },
  {
   "cell_type": "code",
   "execution_count": 25,
   "metadata": {},
   "outputs": [
    {
     "name": "stdout",
     "output_type": "stream",
     "text": [
      "haha, awesomely rad iPad app by @madebymany http://bit.ly/hTdFim #hollergram #sxsw\n",
      "-------------\n",
      "#Samsung, #Sony follow #Apple, #HP lead @mention {link} #Austin #atx #SXSW\n",
      "-------------\n",
      "I just noticed DST is coming this weekend. How many iPhone users will be an hour late at SXSW come Sunday morning? #SXSW #iPhone\n",
      "-------------\n",
      "Following #sxsw Tweets on Google Realtime, four platforms on Tweet Deck and listening to panel, realizing I'm spoken to no one here today.\n",
      "-------------\n",
      "#SXSW is just starting, #CTIA is around the corner and #googleio is only a hop skip and a jump from there, good time to be an #android fan\n",
      "-------------\n",
      "Posted up at the DMI House, Intimate Stranger on the stage, they got a restaurant crowd sitting down to deal wif  #sxsw {link}\n",
      "-------------\n"
     ]
    }
   ],
   "source": [
    "sorted_similarity = np.argsort(-tweet_distance[source_tweet_index,:])\n",
    "\n",
    "for i in range(6):\n",
    "    print(df.iloc[sorted_similarity[i]].tweet_text)\n",
    "    print('-------------')"
   ]
  },
  {
   "cell_type": "code",
   "execution_count": 26,
   "metadata": {},
   "outputs": [
    {
     "data": {
      "image/png": "[encoded data removed]",
      "text/plain": [
       "<Figure size 432x288 with 1 Axes>"
      ]
     },
     "metadata": {
      "needs_background": "light"
     },
     "output_type": "display_data"
    }
   ],
   "source": [
    "counts, bins = np.histogram(tweet_distance)\n",
    "plt.hist(bins[:-1], bins, weights=counts)\n",
    "plt.show()"
   ]
  },
  {
   "cell_type": "code",
   "execution_count": 27,
   "metadata": {},
   "outputs": [],
   "source": [
    "def find_similar_tweet_indexes(distance_matrix, tweet_index: int, threshold: float, k: int = 5):\n",
    "    assert 0 <= threshold <= 1\n",
    "\n",
    "    similarities = -distance_matrix[tweet_index,:]\n",
    "    similarity_indexes = np.argsort(similarities)\n",
    "    \n",
    "    found_indexes = []\n",
    "    for index in similarity_indexes:\n",
    "        sim = -similarities[index]\n",
    "        if sim < threshold:\n",
    "            continue\n",
    "            \n",
    "        found_indexes.append((index, sim))\n",
    "        \n",
    "    return found_indexes[:k]"
   ]
  },
  {
   "cell_type": "code",
   "execution_count": 28,
   "metadata": {},
   "outputs": [
    {
     "name": "stdout",
     "output_type": "stream",
     "text": [
      "Similarity: 1.0\n",
      "text: Popup Apple Store crew has been giving out water to the people in line but they are in street clothes. No Apple logos anywhere yet. #SXSW\n",
      "----------\n",
      "Similarity: 0.5118906968889915\n",
      "text: Apple employees just showed up in force to the #SXSW PopUp Apple Store. #iPad2\n",
      "----------\n",
      "Similarity: 0.4850712500726658\n",
      "text: #sxsw apple store run out for the day :( boo apple.\n",
      "----------\n",
      "Similarity: 0.45834924851410563\n",
      "text: video from the popup Apple store: {link} #sxsw #sxswi\n",
      "----------\n",
      "Similarity: 0.4244373438135828\n",
      "text: #SXSW Apple Pop Up Store still has iPads in stock, we are waiting on line {link} via @mention #apple #ipad2‰Ыќ\n",
      "----------\n",
      "Similarity: 0.40422604172722154\n",
      "text: Wanting in line at the unconfirmed Apple pop-up store for an iPad 2. #sxsw\n",
      "----------\n"
     ]
    }
   ],
   "source": [
    "for i, sim in find_similar_tweet_indexes(tweet_distance, source_tweet_index, threshold=0.4, k=8):\n",
    "    print('Similarity:', sim)\n",
    "    print('text:', df_valid.iloc[i].tweet_text)\n",
    "    print('-' * 10)"
   ]
  },
  {
   "cell_type": "code",
   "execution_count": null,
   "metadata": {},
   "outputs": [],
   "source": []
  }
 ],
 "metadata": {
  "kernelspec": {
   "display_name": "Python 3",
   "language": "python",
   "name": "python3"
  },
  "language_info": {
   "codemirror_mode": {
    "name": "ipython",
    "version": 3
   },
   "file_extension": ".py",
   "mimetype": "text/x-python",
   "name": "python",
   "nbconvert_exporter": "python",
   "pygments_lexer": "ipython3",
   "version": "3.7.8"
  }
 },
 "nbformat": 4,
 "nbformat_minor": 4
}
