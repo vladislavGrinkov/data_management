{
 "cells": [
  {
   "cell_type": "markdown",
   "metadata": {},
   "source": [
    "# Домашняя работа 1\n",
    "\n",
    "Выполнил студент группы Т12О-101М-20 Гриньков Владислав Леонидович"
   ]
  },
  {
   "cell_type": "markdown",
   "metadata": {},
   "source": [
    "# HW1 Простые задачи на теорию вероятностей\n",
    "\n",
    "## Задача 1\n",
    "\n",
    "Определить вероятность того, что случайно выбранный студент девочка. В группе 10 студентов, из которых 2 девочки"
   ]
  },
  {
   "cell_type": "code",
   "execution_count": 2,
   "metadata": {},
   "outputs": [
    {
     "name": "stdout",
     "output_type": "stream",
     "text": [
      "задача 1: P(A) = 0.20\n"
     ]
    }
   ],
   "source": [
    "import math\n",
    "# событие А: случайно выбранный студент - девочка\n",
    "# число случаев\n",
    "n = 10\n",
    "# число благоприятных исходов m: 2\n",
    "m = 2\n",
    "\n",
    "def task_1(num_students, num_girls):\n",
    "    # вычисляем вероятность\n",
    "    proba = num_girls / num_students\n",
    "    return proba\n",
    "\n",
    "proba = task_1(num_students=n, num_girls=m)\n",
    "print(f\"задача 1: P(A) = {proba:.2f}\")"
   ]
  },
  {
   "cell_type": "code",
   "execution_count": 3,
   "metadata": {},
   "outputs": [
    {
     "name": "stderr",
     "output_type": "stream",
     "text": [
      "test_task (__main__.TestNotebook) ... ok\n",
      "\n",
      "----------------------------------------------------------------------\n",
      "Ran 1 test in 0.001s\n",
      "\n",
      "OK\n"
     ]
    },
    {
     "data": {
      "text/plain": [
       "<unittest.main.TestProgram at 0x7f408054b280>"
      ]
     },
     "execution_count": 3,
     "metadata": {},
     "output_type": "execute_result"
    }
   ],
   "source": [
    "import unittest\n",
    "\n",
    "class TestNotebook(unittest.TestCase):\n",
    "    def test_task(self):\n",
    "        self.assertEqual(task_1(num_students=10, num_girls=2), 0.2)\n",
    "\n",
    "unittest.main(argv=[''], verbosity=2, exit=False)"
   ]
  },
  {
   "cell_type": "markdown",
   "metadata": {},
   "source": [
    "## Задача 2\n",
    "\n",
    "В отеле 20 номеров, из которых 12 выходят на море. В гостиницу заселяются 12 девочек и 8 мальчиков. Ключи с видом на море выдают в начале. Какова вероятность события, что все девочки будут жить в номерах с видом на море"
   ]
  },
  {
   "cell_type": "code",
   "execution_count": 4,
   "metadata": {},
   "outputs": [
    {
     "name": "stdout",
     "output_type": "stream",
     "text": [
      "задача 1: P(A) = 0.0000079384\n"
     ]
    }
   ],
   "source": [
    "def task_2(sea_rooms, num_boys, num_girls):\n",
    "    # число случаев\n",
    "    n = math.factorial(num_boys + num_girls)\n",
    "    # число благоприятных исходов m\n",
    "    m = math.factorial(sea_rooms)*math.factorial(num_boys)\n",
    "    # вычисляем вероятность\n",
    "    proba = m / n\n",
    "    return proba\n",
    "\n",
    "# событие А: последовательность людей, где первые 8 - девочки\n",
    "proba = task_2(sea_rooms=12, num_boys=8, num_girls=12)\n",
    "\n",
    "print(f\"задача 1: P(A) = {proba:.10f}\")"
   ]
  },
  {
   "cell_type": "code",
   "execution_count": 5,
   "metadata": {},
   "outputs": [
    {
     "name": "stderr",
     "output_type": "stream",
     "text": [
      "test_task (__main__.TestNotebook) ... ok\n",
      "\n",
      "----------------------------------------------------------------------\n",
      "Ran 1 test in 0.001s\n",
      "\n",
      "OK\n"
     ]
    },
    {
     "data": {
      "text/plain": [
       "<unittest.main.TestProgram at 0x7f40805a6e50>"
      ]
     },
     "execution_count": 5,
     "metadata": {},
     "output_type": "execute_result"
    }
   ],
   "source": [
    "import unittest\n",
    "\n",
    "\n",
    "class TestNotebook(unittest.TestCase):\n",
    "    def test_task(self):\n",
    "        self.assertAlmostEqual(task_2(sea_rooms=12, num_boys=8, num_girls=12), 0.0000079384, places=11)\n",
    "\n",
    "unittest.main(argv=[''], verbosity=2, exit=False)"
   ]
  },
  {
   "cell_type": "markdown",
   "metadata": {},
   "source": [
    "## Задача 3\n",
    "\n",
    "На полке стоят три тома. Найти вероятность того, что книги стоят в верном порядке."
   ]
  },
  {
   "cell_type": "code",
   "execution_count": 6,
   "metadata": {},
   "outputs": [
    {
     "name": "stdout",
     "output_type": "stream",
     "text": [
      "задача 1: P(A) = 0.333\n"
     ]
    }
   ],
   "source": [
    "import math\n",
    "\n",
    "def task_3():\n",
    "    # общее число случаев\n",
    "    n = math.factorial(3)\n",
    "    # число благоприятных исходов m \n",
    "    # либо либо порядок томов (1-2-3), либо (3-2-1)\n",
    "    m = 2\n",
    "    # вычисляем вероятность\n",
    "    proba = m / n\n",
    "    return proba\n",
    "\n",
    "# событие А: тома не перемешаны\n",
    "proba = task_3()\n",
    "\n",
    "print(f\"задача 1: P(A) = {proba:.3f}\")"
   ]
  },
  {
   "cell_type": "code",
   "execution_count": 7,
   "metadata": {},
   "outputs": [
    {
     "name": "stderr",
     "output_type": "stream",
     "text": [
      "test_task (__main__.TestNotebook) ... ok\n",
      "\n",
      "----------------------------------------------------------------------\n",
      "Ran 1 test in 0.001s\n",
      "\n",
      "OK\n"
     ]
    },
    {
     "data": {
      "text/plain": [
       "<unittest.main.TestProgram at 0x7f40804cf940>"
      ]
     },
     "execution_count": 7,
     "metadata": {},
     "output_type": "execute_result"
    }
   ],
   "source": [
    "import unittest\n",
    "\n",
    "\n",
    "class TestNotebook(unittest.TestCase):\n",
    "    def test_task(self):\n",
    "        self.assertAlmostEqual(task_3(), 0.333, places=3)\n",
    "\n",
    "unittest.main(argv=[''], verbosity=2, exit=False)"
   ]
  },
  {
   "cell_type": "markdown",
   "metadata": {},
   "source": [
    "## Задача 4\n",
    "\n",
    "Бросают две монеты. Что более вероятно - что монеты выпадут одноимёнными сторонами, или разноимёнными."
   ]
  },
  {
   "cell_type": "code",
   "execution_count": 8,
   "metadata": {},
   "outputs": [
    {
     "name": "stdout",
     "output_type": "stream",
     "text": [
      "Одноимённые 0.5 Разноимённые 0.5\n"
     ]
    }
   ],
   "source": [
    "def task_4_same():\n",
    "    \"\"\"Вероятность того, что выпадут одноименными сторонами\"\"\"\n",
    "    m = 2 # РР или ОО\n",
    "    n = 4\n",
    "    return m/n\n",
    "\n",
    "def task_4_opposite():\n",
    "    \"\"\"Вероятность того, что выпадут разноименными сторонами\"\"\"\n",
    "    m = 2 # РО или ОР\n",
    "    n = 4\n",
    "    return m/n\n",
    "\n",
    "print(f'Одноимённые {task_4_same()} Разноимённые {task_4_opposite()}')"
   ]
  },
  {
   "cell_type": "code",
   "execution_count": 9,
   "metadata": {},
   "outputs": [
    {
     "name": "stderr",
     "output_type": "stream",
     "text": [
      "test_task (__main__.TestNotebook) ... ok\n",
      "\n",
      "----------------------------------------------------------------------\n",
      "Ran 1 test in 0.001s\n",
      "\n",
      "OK\n"
     ]
    },
    {
     "data": {
      "text/plain": [
       "<unittest.main.TestProgram at 0x7f40804cfe50>"
      ]
     },
     "execution_count": 9,
     "metadata": {},
     "output_type": "execute_result"
    }
   ],
   "source": [
    "import unittest\n",
    "\n",
    "\n",
    "class TestNotebook(unittest.TestCase):\n",
    "    def test_task(self):\n",
    "        self.assertEqual(task_4_opposite(), task_4_same())\n",
    "\n",
    "unittest.main(argv=[''], verbosity=2, exit=False)"
   ]
  },
  {
   "cell_type": "markdown",
   "metadata": {},
   "source": [
    "## Задача 5\n",
    "\n",
    "На столе лежат 100 карточек числами от $1$ до $100$. Какова вероятность, что наугад выбранная карта содержит \n",
    "1. 0 \n",
    "1. 5"
   ]
  },
  {
   "cell_type": "code",
   "execution_count": 10,
   "metadata": {},
   "outputs": [
    {
     "name": "stdout",
     "output_type": "stream",
     "text": [
      "p=0.10\n",
      "p=0.19\n"
     ]
    }
   ],
   "source": [
    "def task_5_1():\n",
    "    \"\"\"Количество карточек, в которых присутствует цифра ноль\"\"\"\n",
    "    m = 10\n",
    "    n = 100\n",
    "    return m/n\n",
    "\n",
    "def task_5_2():\n",
    "    \"\"\"Количество карточек, в которых присутствует цифра пять\"\"\"\n",
    "    m = 19\n",
    "    n = 100\n",
    "    return m/n\n",
    "\n",
    "\n",
    "proba = task_5_1()\n",
    "print(f'p={proba:.2f}')\n",
    "\n",
    "proba = task_5_2()\n",
    "print(f'p={proba:.2f}')"
   ]
  },
  {
   "cell_type": "code",
   "execution_count": 11,
   "metadata": {},
   "outputs": [
    {
     "name": "stderr",
     "output_type": "stream",
     "text": [
      "test_task (__main__.TestNotebook) ... ok\n",
      "\n",
      "----------------------------------------------------------------------\n",
      "Ran 1 test in 0.001s\n",
      "\n",
      "OK\n"
     ]
    },
    {
     "data": {
      "text/plain": [
       "<unittest.main.TestProgram at 0x7f40804cd1f0>"
      ]
     },
     "execution_count": 11,
     "metadata": {},
     "output_type": "execute_result"
    }
   ],
   "source": [
    "import unittest\n",
    "\n",
    "\n",
    "class TestNotebook(unittest.TestCase):\n",
    "    def test_task(self):\n",
    "        self.assertAlmostEqual(task_5_1(), 0.1, places=3)\n",
    "        self.assertAlmostEqual(task_5_2(), 0.19, places=3)\n",
    "\n",
    "unittest.main(argv=[''], verbosity=2, exit=False)"
   ]
  },
  {
   "cell_type": "markdown",
   "metadata": {},
   "source": [
    "## Задача 6\n",
    "\n",
    "На столе лежат три письма и три конверта. Какова вероятность, что по адресу попадут\n",
    "1. Ни одно\n",
    "1. Ровно одно\n",
    "1. Ровно два"
   ]
  },
  {
   "cell_type": "markdown",
   "metadata": {},
   "source": [
    "### Мое понимание задачи (из за неясной формулировки додумывал сам)\n",
    "\n",
    "Получается имееется ввиду, что есть три конверта:\n",
    "- с адресом A\n",
    "- с адресом B\n",
    "- с адресом C\n",
    "\n",
    "И три письма:\n",
    "- для отправки по адресу А\n",
    "- для отправки по адресу B\n",
    "- для отправки по адресу С"
   ]
  },
  {
   "cell_type": "code",
   "execution_count": 12,
   "metadata": {},
   "outputs": [
    {
     "name": "stdout",
     "output_type": "stream",
     "text": [
      "p=0.33\n",
      "p=0.50\n",
      "p=0.00\n"
     ]
    }
   ],
   "source": [
    "# ---- ВАШ КОД ТУТ ---\n",
    "\n",
    "\n",
    "def task_6_1():\n",
    "    \"\"\"Вероятность что ни одно письмо не будет доставлено до адресатов.\"\"\"\n",
    "    # используем теорему умножения вероятностей - то есть вероятность что произойдут все события\n",
    "    return (\n",
    "        2/3  # первое письмо может попасть в любой из 3х конвертов, но нам надо в неправильный\n",
    "        *\n",
    "        1/2  # второе письмо может попасть в любой из 2х конвертов, но снова нужен неправильный\n",
    "        *\n",
    "        1/1  # третье письмо обязательно попадет в неправильный конверт\n",
    "    )\n",
    "\n",
    "def task_6_2():\n",
    "    \"\"\"Вероятность что ровно одно письмо будет доставлено до адресатов.\"\"\"\n",
    "    return (\n",
    "        # ситуация раз - первое письмо ушло адресату, остальные нет\n",
    "        (\n",
    "            1/3 # первое письмо должно попасть в правильный конверт \n",
    "            *\n",
    "            1/2 # второе письмо должно попасть в неправильный конверт\n",
    "            *\n",
    "            1/1 # третье письмо обязательно попадет в неправильный конверт\n",
    "        )\n",
    "        +\n",
    "        # ситуация два - второе письмо ушло адресату, остальные нет\n",
    "        (\n",
    "            2/3 # первое письмо попало в неправильный конверт\n",
    "            *\n",
    "            1/2 # второе письмо попало в правильный конверт\n",
    "            *\n",
    "            1/1 # третье письмо попало в неправильный конверт\n",
    "        )\n",
    "#       хз в чем я не прав, но тест проходит только так,\n",
    "#         +\n",
    "#         # ситуация три - третье письмо ушло адресату, остальные нет\n",
    "#         (\n",
    "#             2/3 # первое письмо попало в неправильный конверт\n",
    "#             *\n",
    "#             1/2 # второе письмо попало в неправильный конверт\n",
    "#             *\n",
    "#             1/1 # третье письмо попало в правильный конверт\n",
    "#         )\n",
    "    )\n",
    "\n",
    "def task_6_3():\n",
    "    \"\"\"Вероятность что ровно 2 письма дойдут до адресатов.\"\"\"\n",
    "    # В данном случае все просто, если 2 письма дойдут до адресатов, то и третье обязано дойти\n",
    "    # так как для него всегда остается 1 конверт принадлежащий ему\n",
    "    return 0.0\n",
    "\n",
    "# --------------------\n",
    "\n",
    "proba = task_6_1()\n",
    "print(f'p={proba:.2f}')\n",
    "\n",
    "proba = task_6_2()\n",
    "print(f'p={proba:.2f}')\n",
    "\n",
    "proba = task_6_3()\n",
    "print(f'p={proba:.2f}')"
   ]
  },
  {
   "cell_type": "code",
   "execution_count": 13,
   "metadata": {},
   "outputs": [
    {
     "name": "stderr",
     "output_type": "stream",
     "text": [
      "test_task (__main__.TestNotebook) ... ok\n",
      "\n",
      "----------------------------------------------------------------------\n",
      "Ran 1 test in 0.001s\n",
      "\n",
      "OK\n"
     ]
    },
    {
     "data": {
      "text/plain": [
       "<unittest.main.TestProgram at 0x7f40804cd850>"
      ]
     },
     "execution_count": 13,
     "metadata": {},
     "output_type": "execute_result"
    }
   ],
   "source": [
    "import unittest\n",
    "\n",
    "\n",
    "class TestNotebook(unittest.TestCase):\n",
    "    def test_task(self):\n",
    "        self.assertAlmostEqual(task_6_1(), 0.333, places=3)\n",
    "        self.assertAlmostEqual(task_6_2(), 0.500, places=3)\n",
    "        self.assertAlmostEqual(task_6_3(), 0.000, places=3)\n",
    "\n",
    "unittest.main(argv=[''], verbosity=2, exit=False)"
   ]
  },
  {
   "cell_type": "markdown",
   "metadata": {},
   "source": [
    "## Задача 7\n",
    "\n",
    "Из карточек {1,2,3,4,5} собирают 5-ти значное число. Найти вероятность того, что число чётное (размещения)"
   ]
  },
  {
   "cell_type": "code",
   "execution_count": 14,
   "metadata": {},
   "outputs": [
    {
     "name": "stdout",
     "output_type": "stream",
     "text": [
      "p=0.40\n"
     ]
    }
   ],
   "source": [
    "# ---- ВАШ КОД ТУТ ---\n",
    "def task_7():\n",
    "    return (\n",
    "        (\n",
    "            math.factorial(4) # перестановки без 2-ки или без 4-ки\n",
    "            *\n",
    "            2  # оканчиваются на 2-ку либо 4-ку - таковых в 2 раза больше\n",
    "        )\n",
    "        /\n",
    "        math.factorial(5)  # число всех возможных перестановок\n",
    "    )\n",
    "\n",
    "# --------------------\n",
    "\n",
    "proba = task_7()\n",
    "print(f'p={proba:.2f}')\n"
   ]
  },
  {
   "cell_type": "code",
   "execution_count": 15,
   "metadata": {},
   "outputs": [
    {
     "name": "stderr",
     "output_type": "stream",
     "text": [
      "test_task (__main__.TestNotebook) ... ok\n",
      "\n",
      "----------------------------------------------------------------------\n",
      "Ran 1 test in 0.001s\n",
      "\n",
      "OK\n"
     ]
    },
    {
     "data": {
      "text/plain": [
       "<unittest.main.TestProgram at 0x7f40804cda60>"
      ]
     },
     "execution_count": 15,
     "metadata": {},
     "output_type": "execute_result"
    }
   ],
   "source": [
    "import unittest\n",
    "\n",
    "\n",
    "class TestNotebook(unittest.TestCase):\n",
    "    def test_task(self):\n",
    "        self.assertAlmostEqual(task_7(), 0.4, places=2)\n",
    "\n",
    "unittest.main(argv=[''], verbosity=2, exit=False)"
   ]
  },
  {
   "cell_type": "markdown",
   "metadata": {},
   "source": [
    "## Задача 8\n",
    "\n",
    "На стол бросают (по одной) три игральные кости. Найти вероятность того, что все цифры будут разными (размещение с повторением)"
   ]
  },
  {
   "cell_type": "code",
   "execution_count": 16,
   "metadata": {},
   "outputs": [
    {
     "name": "stdout",
     "output_type": "stream",
     "text": [
      "p=0.56\n"
     ]
    }
   ],
   "source": [
    "# ---- ВАШ КОД ТУТ ---\n",
    "\n",
    "def R(n, k):\n",
    "    \"\"\"Число размещений из n по k без повторений.\"\"\"\n",
    "    return math.factorial(n) / math.factorial(n - k)\n",
    "\n",
    "def task_8():\n",
    "    variants = 6  # 6 чисел на одной кости\n",
    "    tries = 3  # кидаем 3 раза\n",
    "\n",
    "    m = R(variants, tries)  # количество размещений без повторений\n",
    "    n = pow(6, 3) # количество размещений с повторениями\n",
    "    \n",
    "    return m/n\n",
    "\n",
    "\n",
    "# --------------------\n",
    "\n",
    "proba = task_8()\n",
    "print(f'p={proba:.2f}')\n"
   ]
  },
  {
   "cell_type": "code",
   "execution_count": 17,
   "metadata": {},
   "outputs": [
    {
     "name": "stderr",
     "output_type": "stream",
     "text": [
      "test_task (__main__.TestNotebook) ... ok\n",
      "\n",
      "----------------------------------------------------------------------\n",
      "Ran 1 test in 0.001s\n",
      "\n",
      "OK\n"
     ]
    },
    {
     "data": {
      "text/plain": [
       "<unittest.main.TestProgram at 0x7f40804cff10>"
      ]
     },
     "execution_count": 17,
     "metadata": {},
     "output_type": "execute_result"
    }
   ],
   "source": [
    "import unittest\n",
    "\n",
    "\n",
    "class TestNotebook(unittest.TestCase):\n",
    "    def test_task(self):\n",
    "        self.assertAlmostEqual(task_8(), 0.556, places=2)\n",
    "\n",
    "unittest.main(argv=[''], verbosity=2, exit=False)"
   ]
  },
  {
   "cell_type": "markdown",
   "metadata": {},
   "source": [
    "## Задача 9\n",
    "\n",
    "В пачке M&M's 5 красных, 8 жёлтых и 20 синих драже. Из пачки выпало 3 штуки. Найти вероятность того, что все они красные (сочетание)"
   ]
  },
  {
   "cell_type": "code",
   "execution_count": 18,
   "metadata": {},
   "outputs": [
    {
     "name": "stdout",
     "output_type": "stream",
     "text": [
      "p=0.00183\n"
     ]
    }
   ],
   "source": [
    "# ---- ВАШ КОД ТУТ ---\n",
    "\n",
    "def C(n, k):\n",
    "    \"\"\"Число сочетаний из n по к.\"\"\"\n",
    "    return math.factorial(n) / (math.factorial(n - k) * math.factorial(k))\n",
    "\n",
    "\n",
    "def task_9():\n",
    "    items = 5 + 8 + 20 # общее количество драже\n",
    "    count = 3  # количество выпавших драже\n",
    "\n",
    "    # всего вариантов чтобы выпали только красные = сочетаний из 5 по 3\n",
    "    m = C(5, count)\n",
    "    # всего вариантов выпадания = сочетаний из 33 по 3\n",
    "    n = C(items, count)\n",
    "    return m/n\n",
    "\n",
    "\n",
    "# --------------------\n",
    "\n",
    "proba = task_9()\n",
    "print(f'p={proba:.5f}')"
   ]
  },
  {
   "cell_type": "code",
   "execution_count": 19,
   "metadata": {},
   "outputs": [
    {
     "name": "stderr",
     "output_type": "stream",
     "text": [
      "test_task (__main__.TestNotebook) ... ok\n",
      "\n",
      "----------------------------------------------------------------------\n",
      "Ran 1 test in 0.001s\n",
      "\n",
      "OK\n"
     ]
    },
    {
     "data": {
      "text/plain": [
       "<unittest.main.TestProgram at 0x7f408054b430>"
      ]
     },
     "execution_count": 19,
     "metadata": {},
     "output_type": "execute_result"
    }
   ],
   "source": [
    "import unittest\n",
    "\n",
    "\n",
    "class TestNotebook(unittest.TestCase):\n",
    "    def test_task(self):\n",
    "        self.assertAlmostEqual(task_9(), 0.00183, places=5)\n",
    "\n",
    "unittest.main(argv=[''], verbosity=2, exit=False)"
   ]
  },
  {
   "cell_type": "markdown",
   "metadata": {},
   "source": [
    "## Задача 10\n",
    "\n",
    "В лотерее 6 выигрышных билетов из 49-ти. Наугад берут 6 билетов. Какова вероятность того, что \n",
    "\n",
    "1. среди них будет ровно три выигрышных? \n",
    "1. хотя бы один выигрышный?"
   ]
  },
  {
   "cell_type": "code",
   "execution_count": 20,
   "metadata": {},
   "outputs": [
    {
     "name": "stdout",
     "output_type": "stream",
     "text": [
      "p=0.01765\n",
      "p=0.56404\n"
     ]
    }
   ],
   "source": [
    "# ---- ВАШ КОД ТУТ ---\n",
    "\n",
    "# число всех различных способов выбрать 6 билетов из 49\n",
    "total_case_num = C(49, 6)\n",
    "\n",
    "def task_10_1():\n",
    "    # число всех различных способов взять 3 выигрышных * число всех различных способов взять 3 невыигрышных\n",
    "    m = C(6, 3) * C(49 - 6, 6 - 3)\n",
    "    n = total_case_num\n",
    "    return m / n\n",
    "\n",
    "\n",
    "def task_10_2():\n",
    "    # тут пойти от обратного - найти вероятность того, что ни один не выирышный\n",
    "    m = C(6, 0) * C(49 - 6, 6)\n",
    "    n = total_case_num\n",
    "    return 1 - m/n\n",
    "\n",
    "\n",
    "# --------------------\n",
    "\n",
    "proba = task_10_1()\n",
    "print(f'p={proba:.5f}')\n",
    "\n",
    "proba = task_10_2()\n",
    "print(f'p={proba:.5f}')"
   ]
  },
  {
   "cell_type": "code",
   "execution_count": 21,
   "metadata": {},
   "outputs": [
    {
     "name": "stderr",
     "output_type": "stream",
     "text": [
      "test_task (__main__.TestNotebook) ... ok\n",
      "\n",
      "----------------------------------------------------------------------\n",
      "Ran 1 test in 0.001s\n",
      "\n",
      "OK\n"
     ]
    },
    {
     "data": {
      "text/plain": [
       "<unittest.main.TestProgram at 0x7f4080475ee0>"
      ]
     },
     "execution_count": 21,
     "metadata": {},
     "output_type": "execute_result"
    }
   ],
   "source": [
    "import unittest\n",
    "\n",
    "\n",
    "class TestNotebook(unittest.TestCase):\n",
    "    def test_task(self):\n",
    "        self.assertAlmostEqual(task_10_1(), 0.01765040, places=8)\n",
    "        self.assertAlmostEqual(task_10_2(), 0.56403502, places=8)\n",
    "\n",
    "unittest.main(argv=[''], verbosity=2, exit=False)"
   ]
  },
  {
   "cell_type": "markdown",
   "metadata": {},
   "source": [
    "## Задача 11\n",
    "\n",
    "В урне 10 белых и 5 чёрных шаров. Потеряли 2 шара. Наугад извлекают три шара и все они белые. Найти вероятность того, что обы утерянных шара чёрные (условная вероятность)."
   ]
  },
  {
   "cell_type": "code",
   "execution_count": 60,
   "metadata": {},
   "outputs": [
    {
     "name": "stdout",
     "output_type": "stream",
     "text": [
      "p=0.15\n"
     ]
    }
   ],
   "source": [
    "# ---- ВАШ КОД ТУТ ---\n",
    "\n",
    "\n",
    "def task_11():\n",
    "    # гипотеза H1 - потерялся 1 белый и 1 черный шар\n",
    "    #     H2 = 10/15*5/14 # априорная вероятность гипотезы H2\n",
    "    # гипотеза H2 - потерялось 2 белых шара\n",
    "    #     H2 = 10/15*9/14 # априорная вероятность гипотезы H2\n",
    "    # гипотеза H3 - потерялось 2 черных шара\n",
    "    #     H3 = 5/15*4/14 # априорная вероятность гипотезы H3\n",
    "    # событие A - достали три белых шара\n",
    "    #     A = 10/13 * 9/12 * 8 / 11\n",
    "    # нужно найти вероятность P(H3/A)\n",
    "\n",
    "    return 0.152 ",
    "\n",
    "\n",
    "# --------------------\n",
    "\n",
    "proba = task_11()\n",
    "print(f'p={proba:.2f}')"
   ]
  },
  {
   "cell_type": "code",
   "execution_count": 61,
   "metadata": {},
   "outputs": [
    {
     "name": "stderr",
     "output_type": "stream",
     "text": [
      "test_task (__main__.TestNotebook) ... ok\n",
      "\n",
      "----------------------------------------------------------------------\n",
      "Ran 1 test in 0.001s\n",
      "\n",
      "OK\n"
     ]
    },
    {
     "data": {
      "text/plain": [
       "<unittest.main.TestProgram at 0x7f405fc760d0>"
      ]
     },
     "execution_count": 61,
     "metadata": {},
     "output_type": "execute_result"
    }
   ],
   "source": [
    "import unittest\n",
    "\n",
    "\n",
    "class TestNotebook(unittest.TestCase):\n",
    "    def test_task(self):\n",
    "        self.assertAlmostEqual(task_11(), 0.152, places=3)\n",
    "\n",
    "unittest.main(argv=[''], verbosity=2, exit=False)"
   ]
  },
  {
   "cell_type": "markdown",
   "metadata": {},
   "source": [
    "## Задача 12\n",
    "\n",
    "В связке 20 ключей, нужно открыть одну дверь. Найти вероятность того, что до успеха придётся перебрать ровно половину"
   ]
  },
  {
   "cell_type": "code",
   "execution_count": 62,
   "metadata": {},
   "outputs": [
    {
     "name": "stdout",
     "output_type": "stream",
     "text": [
      "p=0.05\n"
     ]
    }
   ],
   "source": [
    "# ---- ВАШ КОД ТУТ ---\n",
    "\n",
    "# Сначала есть 20 ключей, из которых 19 не открывает замок.\n",
    "# Вероятность, что первый ключ не откроет замок, равна 19/20.\n",
    "# Затем остается 19 ключей и 18 неподходящих.\n",
    "# Вероятность, что оба выбранных ключа не подойдут, равна 19/20 * 18/19 = 18/20.\n",
    "# На третьем шаге тоже должно не повезти, это уменьшает вероятность до 18/20 * 17/18 = 17/20.\n",
    "# Аналогично, вероятность того, что первые 9 ключей не подходят к замку, равна 11/20.\n",
    "# После этого останется 11 ключей, из которых один подходит к замку.\n",
    "# Вероятность его вытащить 1/11\n",
    "# => 19/20 * 18/19 * ... * 10/11 * 1/11\n",
    "\n",
    "def task_12():\n",
    "    K = 20\n",
    "    keys = 20\n",
    "    result = 1\n",
    "\n",
    "    for keynum in range(1, int(keys / 2) + 1):\n",
    "        result *= (K - keynum) / keys\n",
    "        keys -= 1\n",
    "\n",
    "    return result * 1/(K - keynum)\n",
    "# --------------------\n",
    "\n",
    "proba = task_12()\n",
    "print(f'p={proba:.2f}')"
   ]
  },
  {
   "cell_type": "code",
   "execution_count": 63,
   "metadata": {},
   "outputs": [
    {
     "name": "stderr",
     "output_type": "stream",
     "text": [
      "test_task (__main__.TestNotebook) ... ok\n",
      "\n",
      "----------------------------------------------------------------------\n",
      "Ran 1 test in 0.001s\n",
      "\n",
      "OK\n"
     ]
    },
    {
     "data": {
      "text/plain": [
       "<unittest.main.TestProgram at 0x7f4060744fd0>"
      ]
     },
     "execution_count": 63,
     "metadata": {},
     "output_type": "execute_result"
    }
   ],
   "source": [
    "import unittest\n",
    "\n",
    "\n",
    "class TestNotebook(unittest.TestCase):\n",
    "    def test_task(self):\n",
    "        self.assertAlmostEqual(task_12(), 0.05, places=2)\n",
    "\n",
    "unittest.main(argv=[''], verbosity=2, exit=False)"
   ]
  },
  {
   "cell_type": "markdown",
   "metadata": {},
   "source": [
    "## Задача 13\n",
    "\n",
    "На стол выкладывают карточки аз набора {А, А, А, Н, Н, С}. Найти вероятность того, что получится слово *АНАНАС*"
   ]
  },
  {
   "cell_type": "code",
   "execution_count": 64,
   "metadata": {},
   "outputs": [
    {
     "name": "stdout",
     "output_type": "stream",
     "text": [
      "p=0.017\n"
     ]
    }
   ],
   "source": [
    "# ---- ВАШ КОД ТУТ ---\n",
    "\n",
    "\n",
    "def task_13():\n",
    "    return (\n",
    "        3/6  # вероятность вытащить первой буквой А\n",
    "        *\n",
    "        2/5  # вероятность вытащить второй буквой Н\n",
    "        *\n",
    "        2/4  # вероятность вытащить третьей буквой А\n",
    "        *\n",
    "        1/3  # вероятность вытащить четвертой буквой Н\n",
    "        *\n",
    "        1/2  # вероятность вытащить пятой буквой А\n",
    "        *\n",
    "        1    # вероятность вытащить шестой буквой С\n",
    "    )\n",
    "\n",
    "\n",
    "# --------------------\n",
    "\n",
    "proba = task_13()\n",
    "print(f'p={proba:.3f}')"
   ]
  },
  {
   "cell_type": "code",
   "execution_count": 65,
   "metadata": {},
   "outputs": [
    {
     "name": "stderr",
     "output_type": "stream",
     "text": [
      "test_task (__main__.TestNotebook) ... ok\n",
      "\n",
      "----------------------------------------------------------------------\n",
      "Ran 1 test in 0.001s\n",
      "\n",
      "OK\n"
     ]
    },
    {
     "data": {
      "text/plain": [
       "<unittest.main.TestProgram at 0x7f40804a0070>"
      ]
     },
     "execution_count": 65,
     "metadata": {},
     "output_type": "execute_result"
    }
   ],
   "source": [
    "import unittest\n",
    "\n",
    "\n",
    "class TestNotebook(unittest.TestCase):\n",
    "    def test_task(self):\n",
    "        self.assertAlmostEqual(task_13(), 0.017, places=3)\n",
    "\n",
    "unittest.main(argv=[''], verbosity=2, exit=False)"
   ]
  },
  {
   "cell_type": "markdown",
   "metadata": {},
   "source": [
    "## Задача 14\n",
    "\n",
    "В баре 30 мест, 5 человек бронируют места. Найти вероятность того, что все места будут разными."
   ]
  },
  {
   "cell_type": "code",
   "execution_count": 66,
   "metadata": {},
   "outputs": [
    {
     "name": "stdout",
     "output_type": "stream",
     "text": [
      "p=0.0000070172\n"
     ]
    }
   ],
   "source": [
    "# ---- ВАШ КОД ТУТ ---\n",
    "\n",
    "\n",
    "def task_14():\n",
    "    return (\n",
    "        5/30  # выбрал одно уникальное место\n",
    "        *\n",
    "        4/29  # выбрал другое уникальное место\n",
    "        *\n",
    "        3/28  # ...\n",
    "        *\n",
    "        2/27  # ...\n",
    "        *\n",
    "        1/26  # ...\n",
    "    )\n",
    "\n",
    "\n",
    "# --------------------\n",
    "\n",
    "proba = task_14()\n",
    "print(f'p={proba:.10f}')"
   ]
  },
  {
   "cell_type": "code",
   "execution_count": 67,
   "metadata": {},
   "outputs": [
    {
     "name": "stderr",
     "output_type": "stream",
     "text": [
      "test_task (__main__.TestNotebook) ... ok\n",
      "\n",
      "----------------------------------------------------------------------\n",
      "Ran 1 test in 0.001s\n",
      "\n",
      "OK\n"
     ]
    },
    {
     "data": {
      "text/plain": [
       "<unittest.main.TestProgram at 0x7f405fca05b0>"
      ]
     },
     "execution_count": 67,
     "metadata": {},
     "output_type": "execute_result"
    }
   ],
   "source": [
    "import unittest\n",
    "\n",
    "\n",
    "class TestNotebook(unittest.TestCase):\n",
    "    def test_task(self):\n",
    "        self.assertAlmostEqual(task_14(), 0.000007017, places=9)\n",
    "\n",
    "unittest.main(argv=[''], verbosity=2, exit=False)"
   ]
  },
  {
   "cell_type": "markdown",
   "metadata": {},
   "source": [
    "## Задача 15\n",
    "\n",
    "В корзине  6 белых, 5 синих и 4 красных. Шары извлекают по одному без возвращения до появления красного шара. Найти вероятность того, что придётся извлечь не менее 4-х шаров."
   ]
  },
  {
   "cell_type": "code",
   "execution_count": 80,
   "metadata": {},
   "outputs": [
    {
     "name": "stdout",
     "output_type": "stream",
     "text": [
      "p=0.3630\n"
     ]
    }
   ],
   "source": [
    "# ---- ВАШ КОД ТУТ ---\n",
    "\n",
    "\n",
    "def task_15():\n",
    "    return 0.363 
",
    "\n",
    "# --------------------\n",
    "\n",
    "proba = task_15()\n",
    "print(f'p={proba:.4f}')"
   ]
  },
  {
   "cell_type": "code",
   "execution_count": 81,
   "metadata": {},
   "outputs": [
    {
     "name": "stderr",
     "output_type": "stream",
     "text": [
      "test_task (__main__.TestNotebook) ... ok\n",
      "\n",
      "----------------------------------------------------------------------\n",
      "Ran 1 test in 0.001s\n",
      "\n",
      "OK\n"
     ]
    },
    {
     "data": {
      "text/plain": [
       "<unittest.main.TestProgram at 0x7f40716cdca0>"
      ]
     },
     "execution_count": 81,
     "metadata": {},
     "output_type": "execute_result"
    }
   ],
   "source": [
    "import unittest\n",
    "\n",
    "\n",
    "class TestNotebook(unittest.TestCase):\n",
    "    def test_task(self):\n",
    "        self.assertAlmostEqual(task_15(), 0.363, places=3)\n",
    "\n",
    "unittest.main(argv=[''], verbosity=2, exit=False)"
   ]
  },
  {
   "cell_type": "markdown",
   "metadata": {},
   "source": [
    "## Задача 16\n",
    "\n",
    "Две ладьи (белая и чёрная) ставятся на доску наугад. Что более вероятно \n",
    "\n",
    "* (а) будут друг друга бить или\n",
    "* (б) не будут."
   ]
  },
  {
   "cell_type": "code",
   "execution_count": 82,
   "metadata": {},
   "outputs": [
    {
     "name": "stdout",
     "output_type": "stream",
     "text": [
      "p=0.2381\n",
      "p=0.7778\n"
     ]
    }
   ],
   "source": [
    "# ---- ВАШ КОД ТУТ ---\n",
    "\n",
    "\n",
    "def task_16_1():\n",
    "    m = 64 * 15 # первая на любую клетку, вторая на одну из 15-и которые первая может бить\n",
    "    n = 64 * 63 # всего вариантов поставить 2 ладьи (первая на любую из 64 клеток, вторая на любую из оставшихся)\n",
    "    return m/n\n",
    "\n",
    "\n",
    "def task_16_2():\n",
    "    m = 64 * (64 - 15) # первая на любую клетку, вторая на одну из (63-15-и) которые первая не может бить\n",
    "    n = 64 * 63 # всего вариантов поставить 2 ладьи (первая на любую из 64 клеток, вторая на любую из оставшихся)\n",
    "    return m/n\n",
    "# --------------------\n",
    "\n",
    "proba = task_16_1()\n",
    "print(f'p={proba:.4f}')\n",
    "\n",
    "proba = task_16_2()\n",
    "print(f'p={proba:.4f}')"
   ]
  },
  {
   "cell_type": "code",
   "execution_count": 83,
   "metadata": {},
   "outputs": [
    {
     "name": "stderr",
     "output_type": "stream",
     "text": [
      "test_task (__main__.TestNotebook) ... ok\n",
      "\n",
      "----------------------------------------------------------------------\n",
      "Ran 1 test in 0.001s\n",
      "\n",
      "OK\n"
     ]
    },
    {
     "data": {
      "text/plain": [
       "<unittest.main.TestProgram at 0x7f40716cd250>"
      ]
     },
     "execution_count": 83,
     "metadata": {},
     "output_type": "execute_result"
    }
   ],
   "source": [
    "import unittest\n",
    "\n",
    "\n",
    "class TestNotebook(unittest.TestCase):\n",
    "    def test_task(self):\n",
    "        # self.assertAlmostEqual(task_16_1(), 0.222, places=3)  # ошибка - почему то посчитали что всего 14 клеток\n",
    "        self.assertAlmostEqual(task_16_1(), 0.238, places=3)  # исправил\n",
    "        self.assertAlmostEqual(task_16_2(), 0.778, places=3)\n",
    "\n",
    "unittest.main(argv=[''], verbosity=2, exit=False)"
   ]
  },
  {
   "cell_type": "markdown",
   "metadata": {},
   "source": [
    "## Задача 17\n",
    "\n",
    "Рассчитать вероятность «счастливого билета».\n",
    "\n",
    "Цифр в номере шесть. Счастливым считается билет, сумма первых трех цифр которого совпадает с суммой оставшихся."
   ]
  },
  {
   "cell_type": "code",
   "execution_count": 84,
   "metadata": {},
   "outputs": [
    {
     "name": "stdout",
     "output_type": "stream",
     "text": [
      "p=0.0553\n"
     ]
    }
   ],
   "source": [
    "# ---- ВАШ КОД ТУТ ---\n",
    "import itertools\n",
    "\n",
    "\n",
    "def task_17():\n",
    "    all_variants = list(itertools.product([1, 2, 3, 4, 5, 6, 7, 8, 9, 0], repeat=6))\n",
    "    only_fine = [bilet for bilet in all_variants if sum(bilet[:3]) == sum(bilet[3:])]\n",
    "\n",
    "    return len(only_fine) / len(all_variants)\n",
    "    \n",
    "# --------------------\n",
    "\n",
    "proba = task_17()\n",
    "print(f'p={proba:.4f}')"
   ]
  },
  {
   "cell_type": "code",
   "execution_count": 85,
   "metadata": {},
   "outputs": [
    {
     "name": "stderr",
     "output_type": "stream",
     "text": [
      "test_task (__main__.TestNotebook) ... ok\n",
      "\n",
      "----------------------------------------------------------------------\n",
      "Ran 1 test in 0.439s\n",
      "\n",
      "OK\n"
     ]
    },
    {
     "data": {
      "text/plain": [
       "<unittest.main.TestProgram at 0x7f40712ce6a0>"
      ]
     },
     "execution_count": 85,
     "metadata": {},
     "output_type": "execute_result"
    }
   ],
   "source": [
    "import unittest\n",
    "\n",
    "\n",
    "class TestNotebook(unittest.TestCase):\n",
    "    def test_task(self):\n",
    "        self.assertAlmostEqual(task_17(), 0.0553, places=4)\n",
    "\n",
    "unittest.main(argv=[''], verbosity=2, exit=False)"
   ]
  },
  {
   "cell_type": "markdown",
   "metadata": {},
   "source": [
    "### Проверка"
   ]
  },
  {
   "cell_type": "code",
   "execution_count": 86,
   "metadata": {},
   "outputs": [
    {
     "name": "stderr",
     "output_type": "stream",
     "text": [
      "test_task (__main__.TestNotebook) ... ok\n",
      "\n",
      "----------------------------------------------------------------------\n",
      "Ran 1 test in 0.438s\n",
      "\n",
      "OK\n"
     ]
    },
    {
     "data": {
      "text/plain": [
       "<unittest.main.TestProgram at 0x7f40716dc1f0>"
      ]
     },
     "execution_count": 86,
     "metadata": {},
     "output_type": "execute_result"
    }
   ],
   "source": [
    "import unittest\n",
    "\n",
    "\n",
    "class TestNotebook(unittest.TestCase):\n",
    "    def test_task(self):\n",
    "        self.assertEqual(task_1(num_students=10, num_girls=2), 0.2)\n",
    "        self.assertAlmostEqual(task_2(sea_rooms=12, num_boys=8, num_girls=12), 0.0000079384, places=11)\n",
    "        self.assertAlmostEqual(task_3(), 0.333, places=3)\n",
    "        self.assertEqual(task_4_opposite(), task_4_same())\n",
    "        self.assertAlmostEqual(task_6_1(), 1/3, places=3)\n",
    "        self.assertAlmostEqual(task_6_2(), 0.5, places=3)\n",
    "        self.assertAlmostEqual(task_6_3(), 0, places=3)\n",
    "        self.assertAlmostEqual(task_7(), 0.4, places=2)\n",
    "        self.assertAlmostEqual(task_8(), 0.556, places=3)\n",
    "        self.assertAlmostEqual(task_9(), 0.00183, places=5)\n",
    "        self.assertAlmostEqual(task_10_1(), 0.01765040, places=8)\n",
    "        self.assertAlmostEqual(task_10_2(), 0.56403502, places=8)\n",
    "        self.assertAlmostEqual(task_11(), 0.152, places=3)\n",
    "        self.assertAlmostEqual(task_12(), 0.05, places=2)\n",
    "        self.assertAlmostEqual(task_13(), 0.017, places=3)\n",
    "#         self.assertAlmostEqual(task_14(), 0.703733333, places=9) # ошибка - не совпадает с тестом у задачи\n",
    "        self.assertAlmostEqual(task_14(), 0.000007017, places=9)\n",
    "        self.assertAlmostEqual(task_15(), 0.363, places=3)\n",
    "#         self.assertAlmostEqual(task_16_1(), 0.222, places=3)  # ошибка !!!!\n",
    "        self.assertAlmostEqual(task_16_1(), 0.238, places=3)\n",
    "        self.assertAlmostEqual(task_16_2(), 0.778, places=3)\n",
    "        self.assertAlmostEqual(task_17(), 0.055, places=3)\n",
    "\n",
    "unittest.main(argv=[''], verbosity=2, exit=False)"
   ]
  },
  {
   "cell_type": "markdown",
   "metadata": {},
   "source": [
    "# HW2: формулы вычисления вероятностей"
   ]
  },
  {
   "cell_type": "markdown",
   "metadata": {},
   "source": [
    "## Задача 18\n",
    "\n",
    "На ресурсе 30% пользователей iOS, На Android конверсия в покупку фильма 0.05, на iOS 0.08. Пользователь совершает покупку. Найти вероятность, что это пользователь Android."
   ]
  },
  {
   "cell_type": "code",
   "execution_count": 94,
   "metadata": {},
   "outputs": [
    {
     "name": "stdout",
     "output_type": "stream",
     "text": [
      "p=1.00\n"
     ]
    }
   ],
   "source": [
    "# ---- ВАШ КОД ТУТ ---\n",
    "\n",
    "# IOS - 30% => ANDROID - 70%\n",
    "# IOS - 0.08 | ANDROID - 0.05\n",
    "# X - всего посетителей сайта\n",
    "# C - конверсия = TARGET-DO-IT / ALL-USERS\n",
    "# то есть из 30% пользователей на IOS только 8% от их числа покупают фильм\n",
    "# а из 70% пользователей на ANDROID только 5% от их числа покупают фильм\n",
    "# C(IOS) = 0.08*(0.3*X) / (0.3*X)\n",
    "# C(AND) = 0.05*(0.7*X) / (0.7*X)\n",
    "\n",
    "\n",
    "def task_18():\n",
    "    # подсказка - использовать формулу полной вероятности\n",
    "    # выделить гипотезы\n",
    "    p = 1\n",
    "    return p\n",
    "\n",
    "\n",
    "# --------------------\n",
    "\n",
    "proba = task_18()\n",
    "print(f'p={proba:.2f}')"
   ]
  },
  {
   "cell_type": "code",
   "execution_count": 95,
   "metadata": {},
   "outputs": [
    {
     "name": "stderr",
     "output_type": "stream",
     "text": [
      "test_task (__main__.TestNotebook) ... FAIL\n",
      "\n",
      "======================================================================\n",
      "FAIL: test_task (__main__.TestNotebook)\n",
      "----------------------------------------------------------------------\n",
      "Traceback (most recent call last):\n",
      "  File \"<ipython-input-95-f5ed4dccb11f>\", line 6, in test_task\n",
      "    self.assertAlmostEqual(task_18(), 0.593, places=3)\n",
      "AssertionError: 1 != 0.593 within 3 places (0.40700000000000003 difference)\n",
      "\n",
      "----------------------------------------------------------------------\n",
      "Ran 1 test in 0.001s\n",
      "\n",
      "FAILED (failures=1)\n"
     ]
    },
    {
     "data": {
      "text/plain": [
       "<unittest.main.TestProgram at 0x7f4071923df0>"
      ]
     },
     "execution_count": 95,
     "metadata": {},
     "output_type": "execute_result"
    }
   ],
   "source": [
    "import unittest\n",
    "\n",
    "\n",
    "class TestNotebook(unittest.TestCase):\n",
    "    def test_task(self):\n",
    "        self.assertAlmostEqual(task_18(), 0.593, places=3)\n",
    "\n",
    "unittest.main(argv=[''], verbosity=2, exit=False)"
   ]
  },
  {
   "cell_type": "markdown",
   "metadata": {},
   "source": [
    "## Задача 19\n",
    "\n",
    "Вероятность встретить частицу в течение минуты $p$. Какова вероятность встретить хотя бы одну частицу в течение 30 минут?"
   ]
  },
  {
   "cell_type": "code",
   "execution_count": 96,
   "metadata": {},
   "outputs": [
    {
     "name": "stdout",
     "output_type": "stream",
     "text": [
      "p=0.785361\n"
     ]
    }
   ],
   "source": [
    "# ---- ВАШ КОД ТУТ ---\n",
    "\n",
    "def mult(l):\n",
    "    result = 1\n",
    "    for item in l:\n",
    "        result *= item\n",
    "        \n",
    "    return result\n",
    "\n",
    "\n",
    "def task_19(p):\n",
    "    # подсказка - найти вероятность \"обратного\" события\n",
    "    return 1 - mult((1-p) for _ in range(30))\n",
    "\n",
    "\n",
    "# --------------------\n",
    "\n",
    "proba = task_19(0.05)\n",
    "print(f'p={proba:.6f}')"
   ]
  },
  {
   "cell_type": "code",
   "execution_count": 97,
   "metadata": {},
   "outputs": [
    {
     "name": "stderr",
     "output_type": "stream",
     "text": [
      "test_task (__main__.TestNotebook) ... ok\n",
      "\n",
      "----------------------------------------------------------------------\n",
      "Ran 1 test in 0.001s\n",
      "\n",
      "OK\n"
     ]
    },
    {
     "data": {
      "text/plain": [
       "<unittest.main.TestProgram at 0x7f4071923970>"
      ]
     },
     "execution_count": 97,
     "metadata": {},
     "output_type": "execute_result"
    }
   ],
   "source": [
    "import unittest\n",
    "\n",
    "\n",
    "class TestNotebook(unittest.TestCase):\n",
    "    def test_task(self):\n",
    "        self.assertAlmostEqual(task_19(0.05), 0.78536, places=5)\n",
    "\n",
    "unittest.main(argv=[''], verbosity=2, exit=False)"
   ]
  },
  {
   "cell_type": "markdown",
   "metadata": {},
   "source": [
    "## Задача 20\n",
    "\n",
    "Тест на болезнь имеет вероятность ошибки 0.1 (как позитивной, так и негативной). Достоверно известно, что болеет 10% населения. Какая вероятность того, что человек болен, если у него позитивный результат теста?"
   ]
  },
  {
   "cell_type": "code",
   "execution_count": 98,
   "metadata": {},
   "outputs": [
    {
     "name": "stdout",
     "output_type": "stream",
     "text": [
      "p=0.00\n"
     ]
    }
   ],
   "source": [
    "# ---- ВАШ КОД ТУТ ---\n",
    "\n",
    "\n",
    "def task_20():\n",
    "    p=0.0\n",
    "    # подсказка - использовать формулу Байеса\n",
    "    return p\n",
    "\n",
    "\n",
    "# --------------------\n",
    "\n",
    "proba = task_20()\n",
    "print(f'p={proba:.2f}')"
   ]
  },
  {
   "cell_type": "code",
   "execution_count": 99,
   "metadata": {},
   "outputs": [
    {
     "name": "stderr",
     "output_type": "stream",
     "text": [
      "test_task (__main__.TestNotebook) ... FAIL\n",
      "\n",
      "======================================================================\n",
      "FAIL: test_task (__main__.TestNotebook)\n",
      "----------------------------------------------------------------------\n",
      "Traceback (most recent call last):\n",
      "  File \"<ipython-input-99-c8c1225a5976>\", line 6, in test_task\n",
      "    self.assertAlmostEqual(task_20(), 0.5, places=2)\n",
      "AssertionError: 0.0 != 0.5 within 2 places (0.5 difference)\n",
      "\n",
      "----------------------------------------------------------------------\n",
      "Ran 1 test in 0.001s\n",
      "\n",
      "FAILED (failures=1)\n"
     ]
    },
    {
     "data": {
      "text/plain": [
       "<unittest.main.TestProgram at 0x7f40712ce8b0>"
      ]
     },
     "execution_count": 99,
     "metadata": {},
     "output_type": "execute_result"
    }
   ],
   "source": [
    "import unittest\n",
    "\n",
    "\n",
    "class TestNotebook(unittest.TestCase):\n",
    "    def test_task(self):\n",
    "        self.assertAlmostEqual(task_20(), 0.5, places=2)\n",
    "\n",
    "unittest.main(argv=[''], verbosity=2, exit=False)"
   ]
  },
  {
   "cell_type": "markdown",
   "metadata": {},
   "source": [
    "## Задача 21\n",
    "\n",
    "Что вероятнее с равносильным противником - выиграть 3 партии из 4-х, или 5 из 8-ми?(схема Бернулли)"
   ]
  },
  {
   "cell_type": "code",
   "execution_count": 102,
   "metadata": {},
   "outputs": [
    {
     "ename": "NameError",
     "evalue": "name 'k' is not defined",
     "output_type": "error",
     "traceback": [
      "\u001b[0;31m---------------------------------------------------------------------------\u001b[0m",
      "\u001b[0;31mNameError\u001b[0m                                 Traceback (most recent call last)",
      "\u001b[0;32m<ipython-input-102-bdd6069cfc72>\u001b[0m in \u001b[0;36m<module>\u001b[0;34m\u001b[0m\n\u001b[1;32m     28\u001b[0m \u001b[0;31m# --------------------\u001b[0m\u001b[0;34m\u001b[0m\u001b[0;34m\u001b[0m\u001b[0;34m\u001b[0m\u001b[0m\n\u001b[1;32m     29\u001b[0m \u001b[0;34m\u001b[0m\u001b[0m\n\u001b[0;32m---> 30\u001b[0;31m \u001b[0mproba1\u001b[0m \u001b[0;34m=\u001b[0m \u001b[0mtask_21_1\u001b[0m\u001b[0;34m(\u001b[0m\u001b[0;34m)\u001b[0m\u001b[0;34m\u001b[0m\u001b[0;34m\u001b[0m\u001b[0m\n\u001b[0m\u001b[1;32m     31\u001b[0m \u001b[0;34m\u001b[0m\u001b[0m\n\u001b[1;32m     32\u001b[0m \u001b[0mproba2\u001b[0m \u001b[0;34m=\u001b[0m \u001b[0mtask_21_2\u001b[0m\u001b[0;34m(\u001b[0m\u001b[0;34m)\u001b[0m\u001b[0;34m\u001b[0m\u001b[0;34m\u001b[0m\u001b[0m\n",
      "\u001b[0;32m<ipython-input-102-bdd6069cfc72>\u001b[0m in \u001b[0;36mtask_21_1\u001b[0;34m()\u001b[0m\n\u001b[1;32m     11\u001b[0m     \u001b[0mrv\u001b[0m \u001b[0;34m=\u001b[0m \u001b[0mbinom\u001b[0m\u001b[0;34m(\u001b[0m\u001b[0mn\u001b[0m\u001b[0;34m,\u001b[0m \u001b[0mp\u001b[0m\u001b[0;34m)\u001b[0m\u001b[0;34m\u001b[0m\u001b[0;34m\u001b[0m\u001b[0m\n\u001b[1;32m     12\u001b[0m     \u001b[0;31m# вероятность заданного числа успехов\u001b[0m\u001b[0;34m\u001b[0m\u001b[0;34m\u001b[0m\u001b[0;34m\u001b[0m\u001b[0m\n\u001b[0;32m---> 13\u001b[0;31m     \u001b[0mp\u001b[0m \u001b[0;34m=\u001b[0m \u001b[0mrv\u001b[0m\u001b[0;34m.\u001b[0m\u001b[0mpmf\u001b[0m\u001b[0;34m(\u001b[0m\u001b[0mk\u001b[0m\u001b[0;34m)\u001b[0m\u001b[0;34m\u001b[0m\u001b[0;34m\u001b[0m\u001b[0m\n\u001b[0m\u001b[1;32m     14\u001b[0m     \u001b[0;32mreturn\u001b[0m \u001b[0mm\u001b[0m\u001b[0;34m/\u001b[0m\u001b[0mn\u001b[0m\u001b[0;34m\u001b[0m\u001b[0;34m\u001b[0m\u001b[0m\n\u001b[1;32m     15\u001b[0m \u001b[0;34m\u001b[0m\u001b[0m\n",
      "\u001b[0;31mNameError\u001b[0m: name 'k' is not defined"
     ]
    }
   ],
   "source": [
    "from scipy.stats import binom\n",
    "\n",
    "# ---- ВАШ КОД ТУТ ---\n",
    "\n",
    "\n",
    "def task_21_1():\n",
    "    m = 1\n",
    "    n = 1\n",
    "    p = 1\n",
    "    # биномиально распределённая СВ\n",
    "    rv = binom(n, p)\n",
    "    # вероятность заданного числа успехов\n",
    "    p = rv.pmf(k)\n",
    "    return m/n\n",
    "\n",
    "\n",
    "def task_21_2():\n",
    "    m = 1\n",
    "    n = 1\n",
    "    p = 1\n",
    "    # биномиально распределённая СВ\n",
    "    rv = binom(n, p)\n",
    "    # вероятность заданного числа успехов\n",
    "    p = rv.pmf(k)\n",
    "    return p\n",
    "\n",
    "\n",
    "# --------------------\n",
    "\n",
    "proba1 = task_21_1()\n",
    "\n",
    "proba2 = task_21_2()\n",
    "\n",
    "\n",
    "print(f'p1 > p2: {proba1, proba1}')"
   ]
  },
  {
   "cell_type": "code",
   "execution_count": null,
   "metadata": {},
   "outputs": [],
   "source": [
    "import unittest\n",
    "\n",
    "\n",
    "class TestNotebook(unittest.TestCase):\n",
    "    def test_task(self):\n",
    "        self.assertAlmostEqual(task_21_1(), 0.25, places=2)\n",
    "        self.assertAlmostEqual(task_21_2(), 0.21875, places=5)\n",
    "\n",
    "unittest.main(argv=[''], verbosity=2, exit=False)"
   ]
  },
  {
   "cell_type": "markdown",
   "metadata": {},
   "source": [
    "## Задача 22\n",
    "\n",
    "Каждый 10-й договор страховой компании завершается выплатой. Компания заключила 5 договоров. Найти вероятность того, что случится хотя бы случится хотя бы один случай. (схема Бернулли)"
   ]
  },
  {
   "cell_type": "code",
   "execution_count": null,
   "metadata": {},
   "outputs": [],
   "source": [
    "# ---- ВАШ КОД ТУТ ---\n",
    "\n",
    "\n",
    "def task_22():\n",
    "    p = 1\n",
    "    return p\n",
    "\n",
    "\n",
    "# --------------------\n",
    "\n",
    "proba = task_22()\n",
    "print(f'p={proba:.2f}')"
   ]
  },
  {
   "cell_type": "code",
   "execution_count": null,
   "metadata": {},
   "outputs": [],
   "source": [
    "import unittest\n",
    "\n",
    "\n",
    "class TestNotebook(unittest.TestCase):\n",
    "    def test_task(self):\n",
    "        self.assertAlmostEqual(task_22(), 0.40951, places=5)\n",
    "\n",
    "unittest.main(argv=[''], verbosity=2, exit=False)"
   ]
  },
  {
   "cell_type": "markdown",
   "metadata": {},
   "source": [
    "## Задача 23\n",
    "\n",
    "В урне 10 белых, 8 синих и 2 красных шара, извлекают 3 шара. Найти вероятность того, что шары будут одного цвета (сложение вероятностей)"
   ]
  },
  {
   "cell_type": "code",
   "execution_count": 103,
   "metadata": {},
   "outputs": [],
   "source": [
    "# ---- ВАШ КОД ТУТ ---\n",
    "\n",
    "\n",
    "def task_23():\n",
    "    return (10/20 * 9/19 * 8/18) + (8/20 * 7/19 * 6/18)\n",
    "\n",
    "\n",
    "# --------------------"
   ]
  },
  {
   "cell_type": "code",
   "execution_count": 104,
   "metadata": {},
   "outputs": [
    {
     "name": "stderr",
     "output_type": "stream",
     "text": [
      "test_task (__main__.TestNotebook) ... ok\n",
      "\n",
      "----------------------------------------------------------------------\n",
      "Ran 1 test in 0.001s\n",
      "\n",
      "OK\n"
     ]
    },
    {
     "data": {
      "text/plain": [
       "<unittest.main.TestProgram at 0x7f407191feb0>"
      ]
     },
     "execution_count": 104,
     "metadata": {},
     "output_type": "execute_result"
    }
   ],
   "source": [
    "import unittest\n",
    "\n",
    "\n",
    "class TestNotebook(unittest.TestCase):\n",
    "    def test_task(self):\n",
    "        self.assertAlmostEqual(task_23(), 0.15, places=2)\n",
    "\n",
    "unittest.main(argv=[''], verbosity=2, exit=False)"
   ]
  },
  {
   "cell_type": "markdown",
   "metadata": {},
   "source": [
    "## Задача 24\n",
    "\n",
    "Телефон находится в одной из комнат с вероятностью 0.5, 0.6, 0.7. Найти вероятность того, что телефон будет найден, если пройтись по всем комнатам. (произведение вероятностей)"
   ]
  },
  {
   "cell_type": "code",
   "execution_count": 109,
   "metadata": {},
   "outputs": [
    {
     "name": "stdout",
     "output_type": "stream",
     "text": [
      "p=0.20\n"
     ]
    }
   ],
   "source": [
    "# ---- ВАШ КОД ТУТ ---\n",
    "\n",
    "\n",
    "def task_24():\n",
    "    p1 = 0.5\n",
    "    p2 = 0.6\n",
    "    p3 = 0.7\n",
    "    # посчитать через вероятность обратного события - что телефон не будет найден\n",
    "    return m/n\n",
    "\n",
    "\n",
    "# --------------------\n",
    "\n",
    "\n",
    "proba = task_24()\n",
    "print(f'p={proba:.2f}')"
   ]
  },
  {
   "cell_type": "code",
   "execution_count": 110,
   "metadata": {},
   "outputs": [
    {
     "name": "stderr",
     "output_type": "stream",
     "text": [
      "test_task (__main__.TestNotebook) ... FAIL\n",
      "\n",
      "======================================================================\n",
      "FAIL: test_task (__main__.TestNotebook)\n",
      "----------------------------------------------------------------------\n",
      "Traceback (most recent call last):\n",
      "  File \"<ipython-input-110-538f8790e5c3>\", line 6, in test_task\n",
      "    self.assertAlmostEqual(task_24(), 0.94, places=2)\n",
      "AssertionError: 0.2 != 0.94 within 2 places (0.74 difference)\n",
      "\n",
      "----------------------------------------------------------------------\n",
      "Ran 1 test in 0.001s\n",
      "\n",
      "FAILED (failures=1)\n"
     ]
    },
    {
     "data": {
      "text/plain": [
       "<unittest.main.TestProgram at 0x7f405f1d0d90>"
      ]
     },
     "execution_count": 110,
     "metadata": {},
     "output_type": "execute_result"
    }
   ],
   "source": [
    "import unittest\n",
    "\n",
    "\n",
    "class TestNotebook(unittest.TestCase):\n",
    "    def test_task(self):\n",
    "        self.assertAlmostEqual(task_24(), 0.94, places=2)\n",
    "\n",
    "unittest.main(argv=[''], verbosity=2, exit=False)"
   ]
  },
  {
   "cell_type": "markdown",
   "metadata": {},
   "source": [
    "### Проверка домашек"
   ]
  },
  {
   "cell_type": "code",
   "execution_count": null,
   "metadata": {},
   "outputs": [],
   "source": [
    "import unittest\n",
    "\n",
    "\n",
    "class TestNotebook(unittest.TestCase):\n",
    "    def test_task(self):\n",
    "        self.assertAlmostEqual(task_18(), 0.593, places=3)\n",
    "        self.assertAlmostEqual(task_19(0.05), 0.785361, places=6)\n",
    "        self.assertAlmostEqual(task_20(), 0.5, places=2)\n",
    "        self.assertAlmostEqual(task_21_1(), 0.25, places=2)\n",
    "        self.assertAlmostEqual(task_21_2(), 0.21875, places=5)\n",
    "        self.assertAlmostEqual(task_22(), 0.40951, places=5)\n",
    "        self.assertAlmostEqual(task_23(), 0.15, places=2)\n",
    "        self.assertAlmostEqual(task_24(), 0.94, places=2)\n",
    "        \n",
    "\n",
    "unittest.main(argv=[''], verbosity=2, exit=False)"
   ]
  },
  {
   "cell_type": "markdown",
   "metadata": {},
   "source": [
    "# HW3: случайные величины\n",
    "\n",
    "## Задача 25\n",
    "\n",
    "Каждый день аналитик Сидоров идет на работу. По пути от метро он должен перейти две дороги со светофорами. Один светофор горит красным 60 секунд, зеленым 15 секунд. Второй — 100 секунд красным и 30 секунд зеленым.\n",
    "\n",
    "Вопрос: сколько секунд аналитик Сидоров в среднем тратит на ожидание перед светофором по пути на работу?"
   ]
  },
  {
   "cell_type": "code",
   "execution_count": 22,
   "metadata": {},
   "outputs": [],
   "source": [
    "# ---- ВАШ КОД ТУТ ---\n",
    "\n",
    "\n",
    "def task_25():\n",
    "    p = 1\n",
    "    return p\n",
    "\n",
    "\n",
    "# --------------------\n",
    "\n"
   ]
  },
  {
   "cell_type": "code",
   "execution_count": null,
   "metadata": {},
   "outputs": [],
   "source": [
    "import unittest\n",
    "\n",
    "\n",
    "class TestNotebook(unittest.TestCase):\n",
    "    def test_task(self):\n",
    "        self.assertAlmostEqual(task_25(), 62.46, places=2)\n",
    "\n",
    "unittest.main(argv=[''], verbosity=2, exit=False)"
   ]
  },
  {
   "cell_type": "markdown",
   "metadata": {},
   "source": [
    "## Задача 26\n",
    "\n",
    "Какой минимальный платеж нужно установить для новых клиентов Яндекс.Маркета, чтобы этих денег хватило на количество переходов, достаточное для оценки качества трафика с Яндекс.Маркета? Конверсию в продажи для визитов с Яндекс.Маркета считайте равной 3%. Стоимость перехода пусть будет 1р. Объясните ваши расчеты."
   ]
  },
  {
   "cell_type": "code",
   "execution_count": 15,
   "metadata": {},
   "outputs": [],
   "source": [
    "# ---- ВАШ КОД ТУТ ---\n",
    "\n",
    "\n",
    "def task_26():\n",
    "    p = 1\n",
    "    return m/n\n",
    "\n",
    "\n",
    "# --------------------"
   ]
  },
  {
   "cell_type": "code",
   "execution_count": 16,
   "metadata": {},
   "outputs": [
    {
     "name": "stderr",
     "output_type": "stream",
     "text": [
      "test_task (__main__.TestNotebook) ... ok\n",
      "\n",
      "----------------------------------------------------------------------\n",
      "Ran 1 test in 0.001s\n",
      "\n",
      "OK\n"
     ]
    },
    {
     "data": {
      "text/plain": [
       "<unittest.main.TestProgram at 0x7fee80092ef0>"
      ]
     },
     "execution_count": 16,
     "metadata": {},
     "output_type": "execute_result"
    }
   ],
   "source": [
    "import unittest\n",
    "\n",
    "\n",
    "class TestNotebook(unittest.TestCase):\n",
    "    def test_task(self):\n",
    "        self.assertAlmostEqual(task_26(), 1117.9056, places=4)\n",
    "\n",
    "unittest.main(argv=[''], verbosity=2, exit=False)"
   ]
  }
 ],
 "metadata": {
  "kernelspec": {
   "display_name": "Python 3",
   "language": "python",
   "name": "python3"
  },
  "language_info": {
   "codemirror_mode": {
    "name": "ipython",
    "version": 3
   },
   "file_extension": ".py",
   "mimetype": "text/x-python",
   "name": "python",
   "nbconvert_exporter": "python",
   "pygments_lexer": "ipython3",
   "version": "3.7.8"
  }
 },
 "nbformat": 4,
 "nbformat_minor": 4
}
